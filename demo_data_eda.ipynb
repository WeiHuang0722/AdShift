{
  "nbformat": 4,
  "nbformat_minor": 0,
  "metadata": {
    "colab": {
      "name": "demo_data_concat.ipynb",
      "provenance": [],
      "collapsed_sections": []
    },
    "kernelspec": {
      "display_name": "Python 3",
      "name": "python3"
    }
  },
  "cells": [
    {
      "cell_type": "code",
      "metadata": {
        "colab": {
          "base_uri": "https://localhost:8080/"
        },
        "id": "havcPY00uI89",
        "outputId": "525c7cc6-3324-43d9-c55b-6650a719b423"
      },
      "source": [
        "from google.colab import drive\n",
        "from google.colab import files\n",
        "drive.mount('/content/drive')"
      ],
      "execution_count": 1,
      "outputs": [
        {
          "output_type": "stream",
          "text": [
            "Mounted at /content/drive\n"
          ],
          "name": "stdout"
        }
      ]
    },
    {
      "cell_type": "markdown",
      "metadata": {
        "id": "4Oleg3JzWXcN"
      },
      "source": [
        "The exploratory analysis for the demographic data consists of exploring the three features of age, ethnicity, and income brackets for every zipcode in the dataset. The data is broken down by zip code then categorizing by the three features and reports the count for such bracket. The data was first cleaned then analyzed. The code for the analysis is also focused on zip codes and included functions where the input was a zip code and the output was a visualization of the distribution of ages or ethnicity or income for that zip code. "
      ]
    },
    {
      "cell_type": "code",
      "metadata": {
        "id": "vV_FjtyI_goU"
      },
      "source": [
        "demo_path = '/content/drive/MyDrive/Kinesso/US EDA/US Data Sources/zip_age_ethnicity_income_data/demo_data_'"
      ],
      "execution_count": 2,
      "outputs": []
    },
    {
      "cell_type": "code",
      "metadata": {
        "id": "xdtlNK0UC7sl"
      },
      "source": [
        "import pandas as pd\n",
        "import numpy as np\n",
        "import matplotlib.pyplot as plt\n",
        "import sklearn\n",
        "\n",
        "# reads the U.S. demographic dataset into the DataFrame \"demo\" by iteratively concatenating files in groups of 20\n",
        "demo = pd.DataFrame(columns = ['zip_code', 'age', 'ethnicity', 'income', 'count']) \n",
        "for i in range(19):\n",
        "  start = (20 * i) + 1\n",
        "  stop = start + 20\n",
        "  demo_df_list = [pd.read_csv(demo_path + str(j) + '.csv').set_axis(['zip_code', 'age', 'ethnicity', 'income', 'count'], axis='columns') for j in range(start, stop)]\n",
        "  demo_df_concat = pd.concat(demo_df_list)\n",
        "  demo = pd.concat([demo, demo_df_concat])\n",
        "  del demo_df_list\n",
        "  del demo_df_concat"
      ],
      "execution_count": 3,
      "outputs": []
    },
    {
      "cell_type": "code",
      "metadata": {
        "colab": {
          "base_uri": "https://localhost:8080/",
          "height": 647
        },
        "id": "yMVAFh1vqtxv",
        "outputId": "ea812101-9142-48a3-b0ec-d14df56a765e"
      },
      "source": [
        "demo.head(20)"
      ],
      "execution_count": 4,
      "outputs": [
        {
          "output_type": "execute_result",
          "data": {
            "text/html": [
              "<div>\n",
              "<style scoped>\n",
              "    .dataframe tbody tr th:only-of-type {\n",
              "        vertical-align: middle;\n",
              "    }\n",
              "\n",
              "    .dataframe tbody tr th {\n",
              "        vertical-align: top;\n",
              "    }\n",
              "\n",
              "    .dataframe thead th {\n",
              "        text-align: right;\n",
              "    }\n",
              "</style>\n",
              "<table border=\"1\" class=\"dataframe\">\n",
              "  <thead>\n",
              "    <tr style=\"text-align: right;\">\n",
              "      <th></th>\n",
              "      <th>zip_code</th>\n",
              "      <th>age</th>\n",
              "      <th>ethnicity</th>\n",
              "      <th>income</th>\n",
              "      <th>count</th>\n",
              "    </tr>\n",
              "  </thead>\n",
              "  <tbody>\n",
              "    <tr>\n",
              "      <th>0</th>\n",
              "      <td>601</td>\n",
              "      <td>18-23</td>\n",
              "      <td>Hispanic</td>\n",
              "      <td>$1,000 - $14,999</td>\n",
              "      <td>1</td>\n",
              "    </tr>\n",
              "    <tr>\n",
              "      <th>1</th>\n",
              "      <td>601</td>\n",
              "      <td>24-29</td>\n",
              "      <td>Hispanic</td>\n",
              "      <td>$1,000 - $14,999</td>\n",
              "      <td>5</td>\n",
              "    </tr>\n",
              "    <tr>\n",
              "      <th>2</th>\n",
              "      <td>601</td>\n",
              "      <td>24-29</td>\n",
              "      <td>White</td>\n",
              "      <td>$1,000 - $14,999</td>\n",
              "      <td>2</td>\n",
              "    </tr>\n",
              "    <tr>\n",
              "      <th>3</th>\n",
              "      <td>601</td>\n",
              "      <td>30-35</td>\n",
              "      <td>Hispanic</td>\n",
              "      <td>$1,000 - $14,999</td>\n",
              "      <td>20</td>\n",
              "    </tr>\n",
              "    <tr>\n",
              "      <th>4</th>\n",
              "      <td>601</td>\n",
              "      <td>30-35</td>\n",
              "      <td>Hispanic</td>\n",
              "      <td>$15,000 - $19,999</td>\n",
              "      <td>1</td>\n",
              "    </tr>\n",
              "    <tr>\n",
              "      <th>5</th>\n",
              "      <td>601</td>\n",
              "      <td>30-35</td>\n",
              "      <td>Hispanic</td>\n",
              "      <td>$20,000 - $29,999</td>\n",
              "      <td>1</td>\n",
              "    </tr>\n",
              "    <tr>\n",
              "      <th>6</th>\n",
              "      <td>601</td>\n",
              "      <td>30-35</td>\n",
              "      <td>Hispanic</td>\n",
              "      <td>$50,000 - $74,999</td>\n",
              "      <td>2</td>\n",
              "    </tr>\n",
              "    <tr>\n",
              "      <th>7</th>\n",
              "      <td>601</td>\n",
              "      <td>30-35</td>\n",
              "      <td>White</td>\n",
              "      <td>$1,000 - $14,999</td>\n",
              "      <td>1</td>\n",
              "    </tr>\n",
              "    <tr>\n",
              "      <th>8</th>\n",
              "      <td>601</td>\n",
              "      <td>30-35</td>\n",
              "      <td>White</td>\n",
              "      <td>$15,000 - $19,999</td>\n",
              "      <td>1</td>\n",
              "    </tr>\n",
              "    <tr>\n",
              "      <th>9</th>\n",
              "      <td>601</td>\n",
              "      <td>36-41</td>\n",
              "      <td>African American</td>\n",
              "      <td>$20,000 - $29,999</td>\n",
              "      <td>1</td>\n",
              "    </tr>\n",
              "    <tr>\n",
              "      <th>10</th>\n",
              "      <td>601</td>\n",
              "      <td>36-41</td>\n",
              "      <td>Hispanic</td>\n",
              "      <td>$1,000 - $14,999</td>\n",
              "      <td>30</td>\n",
              "    </tr>\n",
              "    <tr>\n",
              "      <th>11</th>\n",
              "      <td>601</td>\n",
              "      <td>36-41</td>\n",
              "      <td>Hispanic</td>\n",
              "      <td>$15,000 - $19,999</td>\n",
              "      <td>11</td>\n",
              "    </tr>\n",
              "    <tr>\n",
              "      <th>12</th>\n",
              "      <td>601</td>\n",
              "      <td>36-41</td>\n",
              "      <td>Hispanic</td>\n",
              "      <td>$20,000 - $29,999</td>\n",
              "      <td>3</td>\n",
              "    </tr>\n",
              "    <tr>\n",
              "      <th>13</th>\n",
              "      <td>601</td>\n",
              "      <td>36-41</td>\n",
              "      <td>Hispanic</td>\n",
              "      <td>$50,000 - $74,999</td>\n",
              "      <td>1</td>\n",
              "    </tr>\n",
              "    <tr>\n",
              "      <th>14</th>\n",
              "      <td>601</td>\n",
              "      <td>36-41</td>\n",
              "      <td>Hispanic</td>\n",
              "      <td>$75,000 - $99,999</td>\n",
              "      <td>1</td>\n",
              "    </tr>\n",
              "    <tr>\n",
              "      <th>15</th>\n",
              "      <td>601</td>\n",
              "      <td>36-41</td>\n",
              "      <td>White</td>\n",
              "      <td>$1,000 - $14,999</td>\n",
              "      <td>4</td>\n",
              "    </tr>\n",
              "    <tr>\n",
              "      <th>16</th>\n",
              "      <td>601</td>\n",
              "      <td>36-41</td>\n",
              "      <td>White</td>\n",
              "      <td>$30,000 - $39,999</td>\n",
              "      <td>1</td>\n",
              "    </tr>\n",
              "    <tr>\n",
              "      <th>17</th>\n",
              "      <td>601</td>\n",
              "      <td>36-41</td>\n",
              "      <td>White</td>\n",
              "      <td>$40,000 - $49,999</td>\n",
              "      <td>1</td>\n",
              "    </tr>\n",
              "    <tr>\n",
              "      <th>18</th>\n",
              "      <td>601</td>\n",
              "      <td>42-47</td>\n",
              "      <td>Hispanic</td>\n",
              "      <td>$1,000 - $14,999</td>\n",
              "      <td>23</td>\n",
              "    </tr>\n",
              "    <tr>\n",
              "      <th>19</th>\n",
              "      <td>601</td>\n",
              "      <td>42-47</td>\n",
              "      <td>Hispanic</td>\n",
              "      <td>$15,000 - $19,999</td>\n",
              "      <td>5</td>\n",
              "    </tr>\n",
              "  </tbody>\n",
              "</table>\n",
              "</div>"
            ],
            "text/plain": [
              "   zip_code    age         ethnicity             income count\n",
              "0       601  18-23          Hispanic   $1,000 - $14,999     1\n",
              "1       601  24-29          Hispanic   $1,000 - $14,999     5\n",
              "2       601  24-29             White   $1,000 - $14,999     2\n",
              "3       601  30-35          Hispanic   $1,000 - $14,999    20\n",
              "4       601  30-35          Hispanic  $15,000 - $19,999     1\n",
              "5       601  30-35          Hispanic  $20,000 - $29,999     1\n",
              "6       601  30-35          Hispanic  $50,000 - $74,999     2\n",
              "7       601  30-35             White   $1,000 - $14,999     1\n",
              "8       601  30-35             White  $15,000 - $19,999     1\n",
              "9       601  36-41  African American  $20,000 - $29,999     1\n",
              "10      601  36-41          Hispanic   $1,000 - $14,999    30\n",
              "11      601  36-41          Hispanic  $15,000 - $19,999    11\n",
              "12      601  36-41          Hispanic  $20,000 - $29,999     3\n",
              "13      601  36-41          Hispanic  $50,000 - $74,999     1\n",
              "14      601  36-41          Hispanic  $75,000 - $99,999     1\n",
              "15      601  36-41             White   $1,000 - $14,999     4\n",
              "16      601  36-41             White  $30,000 - $39,999     1\n",
              "17      601  36-41             White  $40,000 - $49,999     1\n",
              "18      601  42-47          Hispanic   $1,000 - $14,999    23\n",
              "19      601  42-47          Hispanic  $15,000 - $19,999     5"
            ]
          },
          "metadata": {
            "tags": []
          },
          "execution_count": 4
        }
      ]
    },
    {
      "cell_type": "markdown",
      "metadata": {
        "id": "FIxSOCLj7MM7"
      },
      "source": [
        "Data Exploration"
      ]
    },
    {
      "cell_type": "code",
      "metadata": {
        "colab": {
          "base_uri": "https://localhost:8080/"
        },
        "id": "qEj9pEfs7L1O",
        "outputId": "44398d87-ac6d-4f2d-c09d-37513a1e122d"
      },
      "source": [
        "# Features/Variable names\n",
        "demo.columns"
      ],
      "execution_count": 5,
      "outputs": [
        {
          "output_type": "execute_result",
          "data": {
            "text/plain": [
              "Index(['zip_code', 'age', 'ethnicity', 'income', 'count'], dtype='object')"
            ]
          },
          "metadata": {
            "tags": []
          },
          "execution_count": 5
        }
      ]
    },
    {
      "cell_type": "code",
      "metadata": {
        "colab": {
          "base_uri": "https://localhost:8080/"
        },
        "id": "sIYrvJdO71RH",
        "outputId": "66b4c818-ef1f-47a6-e7a4-bb8b6646afe0"
      },
      "source": [
        "# Data Frame information (null, data type etc)\n",
        "demo.info()"
      ],
      "execution_count": 6,
      "outputs": [
        {
          "output_type": "stream",
          "text": [
            "<class 'pandas.core.frame.DataFrame'>\n",
            "Int64Index: 7827660 entries, 0 to 20906\n",
            "Data columns (total 5 columns):\n",
            " #   Column     Dtype \n",
            "---  ------     ----- \n",
            " 0   zip_code   object\n",
            " 1   age        object\n",
            " 2   ethnicity  object\n",
            " 3   income     object\n",
            " 4   count      object\n",
            "dtypes: object(5)\n",
            "memory usage: 358.3+ MB\n"
          ],
          "name": "stdout"
        }
      ]
    },
    {
      "cell_type": "code",
      "metadata": {
        "colab": {
          "base_uri": "https://localhost:8080/"
        },
        "id": "Wm32Z-SdGUfu",
        "outputId": "d102d918-2bfa-4806-f8d0-89a7373afa56"
      },
      "source": [
        "demo_60_65 = demo[demo['age']=='60-65']\n",
        "demo_white_60_65 = demo_60_65[demo_60_65['ethnicity']=='White']\n",
        "\n",
        "demo_white_60_65['income'].value_counts()"
      ],
      "execution_count": 7,
      "outputs": [
        {
          "output_type": "execute_result",
          "data": {
            "text/plain": [
              "$50,000 - $74,999      36187\n",
              "$40,000 - $49,999      34824\n",
              "$30,000 - $39,999      34737\n",
              "$20,000 - $29,999      34591\n",
              "$1,000 - $14,999       34200\n",
              "$75,000 - $99,999      33724\n",
              "$15,000 - $19,999      33073\n",
              "$100,000 - $124,999    31085\n",
              "$150,000 - $174,999    24588\n",
              "not_reported           24184\n",
              "$125,000 - $149,999    23567\n",
              "$175,000 - $199,999    17586\n",
              "$200,000 - $249,999    14285\n",
              "$250,000 or greater    11792\n",
              "Name: income, dtype: int64"
            ]
          },
          "metadata": {
            "tags": []
          },
          "execution_count": 7
        }
      ]
    },
    {
      "cell_type": "code",
      "metadata": {
        "colab": {
          "base_uri": "https://localhost:8080/"
        },
        "id": "pQBTju53GZti",
        "outputId": "d8abc3af-09e1-4bcb-b360-f9b67ca21941"
      },
      "source": [
        "demo_60_65 = demo[demo['age']=='60-65']\n",
        "demo_white_60_65 = demo_60_65[demo_60_65['ethnicity']=='African American']\n",
        "\n",
        "demo_white_60_65['income'].value_counts()"
      ],
      "execution_count": 8,
      "outputs": [
        {
          "output_type": "execute_result",
          "data": {
            "text/plain": [
              "$50,000 - $74,999      19622\n",
              "$40,000 - $49,999      16056\n",
              "$75,000 - $99,999      15246\n",
              "$30,000 - $39,999      15062\n",
              "$20,000 - $29,999      14209\n",
              "$1,000 - $14,999       12177\n",
              "$100,000 - $124,999    11731\n",
              "$15,000 - $19,999      11254\n",
              "not_reported            9378\n",
              "$125,000 - $149,999     7570\n",
              "$150,000 - $174,999     7014\n",
              "$175,000 - $199,999     4505\n",
              "$200,000 - $249,999     3938\n",
              "$250,000 or greater     3612\n",
              "Name: income, dtype: int64"
            ]
          },
          "metadata": {
            "tags": []
          },
          "execution_count": 8
        }
      ]
    },
    {
      "cell_type": "code",
      "metadata": {
        "colab": {
          "base_uri": "https://localhost:8080/"
        },
        "id": "i-7moAU8Gugy",
        "outputId": "1ea29ed1-e8d2-4962-d8e9-671a129df9a6"
      },
      "source": [
        "demo['zip_code'].value_counts()"
      ],
      "execution_count": 9,
      "outputs": [
        {
          "output_type": "execute_result",
          "data": {
            "text/plain": [
              "20906    566\n",
              "11234    565\n",
              "33647    565\n",
              "8873     564\n",
              "20874    564\n",
              "        ... \n",
              "40231      1\n",
              "5449       1\n",
              "9898       1\n",
              "83799      1\n",
              "96673      1\n",
              "Name: zip_code, Length: 39041, dtype: int64"
            ]
          },
          "metadata": {
            "tags": []
          },
          "execution_count": 9
        }
      ]
    },
    {
      "cell_type": "code",
      "metadata": {
        "id": "Ripykf_NniB2"
      },
      "source": [
        "#Returns a bargraph of the percentges of ethnicities in the given zipcode\n",
        "\n",
        "def ethnicity_dist(zipcode):\n",
        "  zip = demo[demo['zip_code'] == zipcode]\n",
        "  am = (np.sum(zip[['count']].where(zip['ethnicity'] == 'African American'))/np.sum(zip['count']))*100\n",
        "  his = (np.sum(zip[['count']].where(zip['ethnicity'] == 'Hispanic'))/np.sum(zip['count']))*100\n",
        "  wh = (np.sum(zip[['count']].where(zip['ethnicity'] == 'White'))/np.sum(zip['count']))*100\n",
        "  asi = (np.sum(zip[['count']].where(zip['ethnicity'] == 'Asian'))/np.sum(zip['count']))*100\n",
        "  nr = (np.sum(zip[['count']].where(zip['ethnicity'] == 'not_reported'))/np.sum(zip['count']))*100\n",
        "\n",
        "  ethnicity = {'African American':am, 'Hispanic':his, 'White':wh, 'Asian':asi, 'Not reported': nr}\n",
        "\n",
        "  names = list(ethnicity.keys())\n",
        "  values = list(ethnicity.values())\n",
        "  plt.bar(0,values[0],tick_label=names[0])\n",
        "  plt.bar(1,values[1],tick_label=names[1])\n",
        "  plt.bar(2,values[2],tick_label=names[2])\n",
        "  plt.bar(3, values[3], tick_label=names[3])\n",
        "  plt.bar(4, values[4], tick_label=names[4])\n",
        "\n",
        "\n",
        "  plt.xticks(range(0,5),names)\n",
        "  plt.title('Ethnicity distribution for zipcode:' + str(zipcode))\n",
        "  plt.show()\n",
        "  return\n"
      ],
      "execution_count": 10,
      "outputs": []
    },
    {
      "cell_type": "code",
      "metadata": {
        "colab": {
          "base_uri": "https://localhost:8080/",
          "height": 281
        },
        "id": "euDanV27pBwm",
        "outputId": "5cf9f736-ff3a-4851-b9ff-0b916c0d4bfa"
      },
      "source": [
        "ethnicity_dist(7052)"
      ],
      "execution_count": 11,
      "outputs": [
        {
          "output_type": "display_data",
          "data": {
            "image/png": "[encoded data removed]",
            "text/plain": [
              "<Figure size 432x288 with 1 Axes>"
            ]
          },
          "metadata": {
            "tags": [],
            "needs_background": "light"
          }
        }
      ]
    },
    {
      "cell_type": "code",
      "metadata": {
        "id": "WBd0bwmO9mqH"
      },
      "source": [
        "#Returns a bargraph of the percentges of income bracket in the given zipcode\n",
        "\n",
        "def income_dist(zipcode):\n",
        "  zip = demo[demo['zip_code'] == zipcode]\n",
        "  fifty_75 = (np.sum(zip[['count']].where(zip['income'] == '$50,000 - $74,999'))/np.sum(zip['count']))*100\n",
        "  forty_50 = (np.sum(zip[['count']].where(zip['income'] == '$40,000 - $49,999'))/np.sum(zip['count']))*100\n",
        "  twenty_30 = (np.sum(zip[['count']].where(zip['income'] == '$20,000 - $29,999'))/np.sum(zip['count']))*100\n",
        "  thirty_40 = (np.sum(zip[['count']].where(zip['income'] == '$30,000 - $39,999'))/np.sum(zip['count']))*100\n",
        "  one_15 = (np.sum(zip[['count']].where(zip['income'] == '$1,000 - $14,999'))/np.sum(zip['count']))*100\n",
        "  seventyfive_100 = (np.sum(zip[['count']].where(zip['income'] == '$75,000 - $99,999'))/np.sum(zip['count']))*100\n",
        "  fifteen_20 = (np.sum(zip[['count']].where(zip['income'] == '$15,000 - $19,999'))/np.sum(zip['count']))*100\n",
        "  onehundred_125 = (np.sum(zip[['count']].where(zip['income'] == '$100,000 - $124,999'))/np.sum(zip['count']))*100\n",
        "  not_reported = (np.sum(zip[['count']].where(zip['income'] == 'not_reported'))/np.sum(zip['count']))*100\n",
        "  onetwentyfive_150 = (np.sum(zip[['count']].where(zip['income'] == '$125,000 - $149,999'))/np.sum(zip['count']))*100\n",
        "  onefifty_175 = (np.sum(zip[['count']].where(zip['income'] == '$150,000 - $174,999'))/np.sum(zip['count']))*100\n",
        "  oneseventyfive_200 = (np.sum(zip[['count']].where(zip['income'] == '$175,000 - $199,999'))/np.sum(zip['count']))*100\n",
        "  twohundred_250 = (np.sum(zip[['count']].where(zip['income'] == '$200,000 - $249,999'))/np.sum(zip['count']))*100\n",
        "  twofifty_more = (np.sum(zip[['count']].where(zip['income'] == '$250,000 or greater'))/np.sum(zip['count']))*100\n",
        "\n",
        "\n",
        "  income = {'$1,000 - $14,999': one_15,  '$15,000 - $19,999':fifteen_20, '$20,000 - $29,999':twenty_30, '$30,000 - $39,999':thirty_40, \n",
        "            '$40,000 - $49,999':forty_50, '$50,000 - $74,999':fifty_75, '$75,000 - $99,999':seventyfive_100, '$100,000 - $124,999':onehundred_125,\n",
        "            'not_reported': not_reported, '$125,000 - $149,999':onetwentyfive_150, '$150,000 - $174,999':onefifty_175, '$175,000 - $199,999':oneseventyfive_200, \n",
        "            '$200,000 - $249,999':twohundred_250, '$250,000 or greater':twofifty_more}\n",
        "\n",
        "  names = list(income.keys())\n",
        "  values = list(income.values())\n",
        "  plt.bar(0,values[0],tick_label=names[0])\n",
        "  plt.bar(1,values[1],tick_label=names[1])\n",
        "  plt.bar(2,values[2],tick_label=names[2])\n",
        "  plt.bar(3, values[3], tick_label=names[3])\n",
        "  plt.bar(4, values[4], tick_label=names[4])\n",
        "  plt.bar(5, values[5], tick_label=names[5])\n",
        "  plt.bar(6, values[6], tick_label=names[6])\n",
        "  plt.bar(7, values[7], tick_label=names[7])\n",
        "  plt.bar(8, values[8], tick_label=names[8])\n",
        "  plt.bar(9, values[9], tick_label=names[9])\n",
        "  plt.bar(10, values[10], tick_label=names[10])\n",
        "  plt.bar(11, values[11], tick_label=names[11])\n",
        "  plt.bar(12, values[12], tick_label=names[12])\n",
        "  plt.bar(13, values[13], tick_label=names[13])\n",
        "\n",
        "  plt.xticks(range(0,14),names)\n",
        "  plt.xticks(rotation=80)\n",
        "  plt.title('Income distribution for zipcode:' + str(zipcode))\n",
        "  plt.show()\n",
        "  return"
      ],
      "execution_count": 12,
      "outputs": []
    },
    {
      "cell_type": "code",
      "metadata": {
        "colab": {
          "base_uri": "https://localhost:8080/",
          "height": 372
        },
        "id": "GC0rThZkG8_N",
        "outputId": "10f886ca-6396-42e3-b623-478eb781d57c"
      },
      "source": [
        "income_dist(7052)"
      ],
      "execution_count": 13,
      "outputs": [
        {
          "output_type": "display_data",
          "data": {
            "image/png": "[encoded data removed]",
            "text/plain": [
              "<Figure size 432x288 with 1 Axes>"
            ]
          },
          "metadata": {
            "tags": [],
            "needs_background": "light"
          }
        }
      ]
    },
    {
      "cell_type": "code",
      "metadata": {
        "id": "F68mj80_KpJA"
      },
      "source": [
        "#Returns a bargraph of the percentges of ages in the given zipcode\n",
        "\n",
        "def age_dist(zipcode):\n",
        "  zip = demo[demo['zip_code'] == zipcode]\n",
        "  sixtysix_above = (np.sum(zip[['count']].where(zip['age'] == '66 and above'))/np.sum(zip['count']))*100\n",
        "  fiftyfour_59 = (np.sum(zip[['count']].where(zip['age'] == '54-59'))/np.sum(zip['count']))*100\n",
        "  sixty_65 = (np.sum(zip[['count']].where(zip['age'] == '60-65'))/np.sum(zip['count']))*100\n",
        "  fortyeight_53 = (np.sum(zip[['count']].where(zip['age'] == '48-53'))/np.sum(zip['count']))*100\n",
        "  nr = (np.sum(zip[['count']].where(zip['age'] == 'not_reported'))/np.sum(zip['count']))*100\n",
        "  fortytwo_47 = (np.sum(zip[['count']].where(zip['age'] == '42-47'))/np.sum(zip['count']))*100\n",
        "  thirtysix_41 = (np.sum(zip[['count']].where(zip['age'] == '36-41'))/np.sum(zip['count']))*100\n",
        "  thirty_35 = (np.sum(zip[['count']].where(zip['age'] == '30-35'))/np.sum(zip['count']))*100\n",
        "  twentyfour_29 = (np.sum(zip[['count']].where(zip['age'] == '24-29'))/np.sum(zip['count']))*100\n",
        "  eighteen_23 = (np.sum(zip[['count']].where(zip['age'] == '18-23'))/np.sum(zip['count']))*100\n",
        "\n",
        "  ages = {'18-23':eighteen_23, '24-29':twentyfour_29, '30-35':thirty_35, '36-41':thirtysix_41, '42-47': fortytwo_47, '48-53':fortyeight_53, \n",
        "          '54-59':fiftyfour_59, '60-65':sixty_65, '66 and above':sixtysix_above, 'not_reported':nr}\n",
        "\n",
        "  names = list(ages.keys())\n",
        "  values = list(ages.values())\n",
        "  plt.bar(0,values[0],tick_label=names[0])\n",
        "  plt.bar(1,values[1],tick_label=names[1])\n",
        "  plt.bar(2,values[2],tick_label=names[2])\n",
        "  plt.bar(3, values[3], tick_label=names[3])\n",
        "  plt.bar(4, values[4], tick_label=names[4])\n",
        "  plt.bar(5, values[5], tick_label=names[5])\n",
        "  plt.bar(6, values[6], tick_label=names[6])\n",
        "  plt.bar(7, values[7], tick_label=names[7])\n",
        "  plt.bar(8, values[8], tick_label=names[8])\n",
        "  plt.bar(9, values[9], tick_label=names[9])\n",
        "\n",
        "\n",
        "  plt.xticks(range(0,10), names)\n",
        "  plt.xticks(rotation=80)\n",
        "  plt.title('Age distribution in zipcode:' + str(zipcode))\n",
        "  plt.show()\n",
        "  return"
      ],
      "execution_count": 14,
      "outputs": []
    },
    {
      "cell_type": "code",
      "metadata": {
        "colab": {
          "base_uri": "https://localhost:8080/",
          "height": 340
        },
        "id": "8JyOQLIMOV9D",
        "outputId": "5b689ce8-4f4d-4f40-e4fa-167d99feebe2"
      },
      "source": [
        "age_dist(7052)"
      ],
      "execution_count": 15,
      "outputs": [
        {
          "output_type": "display_data",
          "data": {
            "image/png": "[encoded data removed]",
            "text/plain": [
              "<Figure size 432x288 with 1 Axes>"
            ]
          },
          "metadata": {
            "tags": [],
            "needs_background": "light"
          }
        }
      ]
    }
  ]
}