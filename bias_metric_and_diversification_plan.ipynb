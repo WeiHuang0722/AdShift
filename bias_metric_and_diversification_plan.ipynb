{
  "nbformat": 4,
  "nbformat_minor": 0,
  "metadata": {
    "colab": {
      "name": "bias_metric_and_diversification_plan.ipynb",
      "provenance": [],
      "collapsed_sections": []
    },
    "kernelspec": {
      "name": "python3",
      "display_name": "Python 3"
    }
  },
  "cells": [
    {
      "cell_type": "code",
      "metadata": {
        "colab": {
          "base_uri": "https://localhost:8080/"
        },
        "id": "YDLOHYzZCxwA",
        "outputId": "07810f14-2965-4e0d-8fe4-06acbb69bd10"
      },
      "source": [
        "from google.colab import drive\n",
        "from google.colab import files\n",
        "drive.mount('/content/drive')"
      ],
      "execution_count": 1,
      "outputs": [
        {
          "output_type": "stream",
          "text": [
            "Drive already mounted at /content/drive; to attempt to forcibly remount, call drive.mount(\"/content/drive\", force_remount=True).\n"
          ],
          "name": "stdout"
        }
      ]
    },
    {
      "cell_type": "code",
      "metadata": {
        "id": "C9Oc4ZePC1yk"
      },
      "source": [
        "import pandas as pd\n",
        "import numpy as np\n",
        "import matplotlib.pyplot as plt"
      ],
      "execution_count": 2,
      "outputs": []
    },
    {
      "cell_type": "markdown",
      "metadata": {
        "id": "xwKEf4X3g_1u"
      },
      "source": [
        "## Importing the U.S. Ad Impressions Dataset"
      ]
    },
    {
      "cell_type": "code",
      "metadata": {
        "colab": {
          "base_uri": "https://localhost:8080/"
        },
        "id": "gCmIR5XcC2Qg",
        "outputId": "0369a084-d5a4-49f0-f15e-3cfebfecb775"
      },
      "source": [
        "# reads the U.S. advertisement impression dataset into the DataFrame \"impressions\" by iteratively concatenating files in groups of 25\n",
        "impressions_path = '/content/drive/MyDrive/Kinesso/US EDA/US Data Sources/impression_dataframes/impressions_'\n",
        "impressions = pd.read_pickle(impressions_path + \"0.pkl\")\n",
        "for i in range(16):\n",
        "  start = (25 * i) + 1\n",
        "  stop = start + 25\n",
        "  df_list = [pd.read_pickle(impressions_path + str(j) + \".pkl\") for j in range(start, stop)]\n",
        "  df_concat = pd.concat(df_list)\n",
        "  impressions = pd.concat([impressions, df_concat])\n",
        "  del df_list\n",
        "  del df_concat\n",
        "\n",
        "# drop any rows where the zip_code field contains a NaN\n",
        "impressions.dropna(subset=['zip_code'], inplace=True)\n",
        "impressions.reset_index(drop=True, inplace=True)\n",
        "\n",
        "print(impressions.shape)\n",
        "print(impressions.columns)"
      ],
      "execution_count": 3,
      "outputs": [
        {
          "output_type": "stream",
          "text": [
            "(19700256, 20)\n",
            "Index(['impression_id', 'campaign_id', 'ad_group_id', 'audience_id',\n",
            "       'supply_vendor', 'user_agent', 'region', 'city', 'device_type',\n",
            "       'os_family', 'os', 'browser', 'media_cost', 'ttd_cost_in_usd',\n",
            "       'partner_cost_in_usd', 'advertiser_cost_in_usd', 'zip_code',\n",
            "       'device_make', 'device_model', 'carrier_id'],\n",
            "      dtype='object')\n"
          ],
          "name": "stdout"
        }
      ]
    },
    {
      "cell_type": "code",
      "metadata": {
        "colab": {
          "base_uri": "https://localhost:8080/",
          "height": 384
        },
        "id": "uRoyQlbs6ka0",
        "outputId": "6c1b9f5c-a083-4f81-b731-457edaefeca8"
      },
      "source": [
        "impressions.head()"
      ],
      "execution_count": 4,
      "outputs": [
        {
          "output_type": "execute_result",
          "data": {
            "text/html": [
              "<div>\n",
              "<style scoped>\n",
              "    .dataframe tbody tr th:only-of-type {\n",
              "        vertical-align: middle;\n",
              "    }\n",
              "\n",
              "    .dataframe tbody tr th {\n",
              "        vertical-align: top;\n",
              "    }\n",
              "\n",
              "    .dataframe thead th {\n",
              "        text-align: right;\n",
              "    }\n",
              "</style>\n",
              "<table border=\"1\" class=\"dataframe\">\n",
              "  <thead>\n",
              "    <tr style=\"text-align: right;\">\n",
              "      <th></th>\n",
              "      <th>impression_id</th>\n",
              "      <th>campaign_id</th>\n",
              "      <th>ad_group_id</th>\n",
              "      <th>audience_id</th>\n",
              "      <th>supply_vendor</th>\n",
              "      <th>user_agent</th>\n",
              "      <th>region</th>\n",
              "      <th>city</th>\n",
              "      <th>device_type</th>\n",
              "      <th>os_family</th>\n",
              "      <th>os</th>\n",
              "      <th>browser</th>\n",
              "      <th>media_cost</th>\n",
              "      <th>ttd_cost_in_usd</th>\n",
              "      <th>partner_cost_in_usd</th>\n",
              "      <th>advertiser_cost_in_usd</th>\n",
              "      <th>zip_code</th>\n",
              "      <th>device_make</th>\n",
              "      <th>device_model</th>\n",
              "      <th>carrier_id</th>\n",
              "    </tr>\n",
              "  </thead>\n",
              "  <tbody>\n",
              "    <tr>\n",
              "      <th>0</th>\n",
              "      <td>feeb8dbc-212a-4fba-8f8e-322431e625bf</td>\n",
              "      <td>el02c6n</td>\n",
              "      <td>exazlvq</td>\n",
              "      <td>NaN</td>\n",
              "      <td>Telaria</td>\n",
              "      <td>Roku/DVP-9.30 (489.30E04194A)</td>\n",
              "      <td>Minnesota</td>\n",
              "      <td>Minneapolis</td>\n",
              "      <td>6</td>\n",
              "      <td>1.0</td>\n",
              "      <td>101.0</td>\n",
              "      <td>1.0</td>\n",
              "      <td>0.01877</td>\n",
              "      <td>0.01877</td>\n",
              "      <td>0.019609</td>\n",
              "      <td>0.019609</td>\n",
              "      <td>55405.0</td>\n",
              "      <td>Roku</td>\n",
              "      <td>Digital Video player</td>\n",
              "      <td>NaN</td>\n",
              "    </tr>\n",
              "    <tr>\n",
              "      <th>1</th>\n",
              "      <td>b768bf1c-a433-44a1-9614-87f983118c94</td>\n",
              "      <td>pey7wjw</td>\n",
              "      <td>fcucjsu</td>\n",
              "      <td>1qh4zg7</td>\n",
              "      <td>freewheel</td>\n",
              "      <td>Roku/DVP-9.30 (509.30E04194A)</td>\n",
              "      <td>California</td>\n",
              "      <td>Oceanside</td>\n",
              "      <td>6</td>\n",
              "      <td>1.0</td>\n",
              "      <td>101.0</td>\n",
              "      <td>1.0</td>\n",
              "      <td>0.03840</td>\n",
              "      <td>0.03840</td>\n",
              "      <td>0.042422</td>\n",
              "      <td>0.042422</td>\n",
              "      <td>92056.0</td>\n",
              "      <td>Roku</td>\n",
              "      <td>Digital Video player</td>\n",
              "      <td>NaN</td>\n",
              "    </tr>\n",
              "    <tr>\n",
              "      <th>2</th>\n",
              "      <td>742e59e3-9283-4f32-81eb-7ccfe01e13ae</td>\n",
              "      <td>pey7wjw</td>\n",
              "      <td>fcucjsu</td>\n",
              "      <td>1qh4zg7</td>\n",
              "      <td>freewheel</td>\n",
              "      <td>Roku/DVP-9.30 (519.30E04194A)</td>\n",
              "      <td>Kentucky</td>\n",
              "      <td>Lancaster</td>\n",
              "      <td>6</td>\n",
              "      <td>1.0</td>\n",
              "      <td>101.0</td>\n",
              "      <td>1.0</td>\n",
              "      <td>0.03840</td>\n",
              "      <td>0.03840</td>\n",
              "      <td>0.042422</td>\n",
              "      <td>0.042422</td>\n",
              "      <td>40444.0</td>\n",
              "      <td>Roku</td>\n",
              "      <td>Digital Video player</td>\n",
              "      <td>NaN</td>\n",
              "    </tr>\n",
              "    <tr>\n",
              "      <th>3</th>\n",
              "      <td>9c298ba2-32e8-4a6e-adad-32f2f004bb95</td>\n",
              "      <td>pey7wjw</td>\n",
              "      <td>fcucjsu</td>\n",
              "      <td>1qh4zg7</td>\n",
              "      <td>freewheel</td>\n",
              "      <td>Roku/DVP-9.30 (919.30E04194A)</td>\n",
              "      <td>California</td>\n",
              "      <td>Los Osos</td>\n",
              "      <td>6</td>\n",
              "      <td>1.0</td>\n",
              "      <td>101.0</td>\n",
              "      <td>1.0</td>\n",
              "      <td>0.03840</td>\n",
              "      <td>0.03840</td>\n",
              "      <td>0.042422</td>\n",
              "      <td>0.042422</td>\n",
              "      <td>93402.0</td>\n",
              "      <td>Roku</td>\n",
              "      <td>Digital Video player</td>\n",
              "      <td>NaN</td>\n",
              "    </tr>\n",
              "    <tr>\n",
              "      <th>4</th>\n",
              "      <td>66cea51b-267b-4a2e-96c0-fcd276e2521c</td>\n",
              "      <td>el02c6n</td>\n",
              "      <td>exazlvq</td>\n",
              "      <td>NaN</td>\n",
              "      <td>Telaria</td>\n",
              "      <td>Roku/DVP-9.30 (319.30E04194A)</td>\n",
              "      <td>Pennsylvania</td>\n",
              "      <td>Philadelphia</td>\n",
              "      <td>6</td>\n",
              "      <td>1.0</td>\n",
              "      <td>101.0</td>\n",
              "      <td>1.0</td>\n",
              "      <td>0.01877</td>\n",
              "      <td>0.01877</td>\n",
              "      <td>0.019609</td>\n",
              "      <td>0.019609</td>\n",
              "      <td>19128.0</td>\n",
              "      <td>Roku</td>\n",
              "      <td>Digital Video player</td>\n",
              "      <td>NaN</td>\n",
              "    </tr>\n",
              "  </tbody>\n",
              "</table>\n",
              "</div>"
            ],
            "text/plain": [
              "                          impression_id  ... carrier_id\n",
              "0  feeb8dbc-212a-4fba-8f8e-322431e625bf  ...        NaN\n",
              "1  b768bf1c-a433-44a1-9614-87f983118c94  ...        NaN\n",
              "2  742e59e3-9283-4f32-81eb-7ccfe01e13ae  ...        NaN\n",
              "3  9c298ba2-32e8-4a6e-adad-32f2f004bb95  ...        NaN\n",
              "4  66cea51b-267b-4a2e-96c0-fcd276e2521c  ...        NaN\n",
              "\n",
              "[5 rows x 20 columns]"
            ]
          },
          "metadata": {
            "tags": []
          },
          "execution_count": 4
        }
      ]
    },
    {
      "cell_type": "markdown",
      "metadata": {
        "id": "XWV79sqXhHEJ"
      },
      "source": [
        "## Importing the U.S. Demographic Distribution Dataset"
      ]
    },
    {
      "cell_type": "code",
      "metadata": {
        "id": "ZOhs8Nf0C2oi",
        "colab": {
          "base_uri": "https://localhost:8080/"
        },
        "outputId": "5c1e8a56-a152-4716-a5fe-26f75b064907"
      },
      "source": [
        "# reads the U.S. demographic dataset into the DataFrame \"demo\" by iteratively concatenating files in groups of 20\n",
        "demo_path = '/content/drive/MyDrive/Kinesso/US EDA/US Data Sources/zip_age_ethnicity_income_data/demo_data_'\n",
        "demo = pd.DataFrame(columns = ['zip_code', 'age', 'ethnicity', 'income', 'count']) \n",
        "for i in range(19):\n",
        "  start = (20 * i) + 1\n",
        "  stop = start + 20\n",
        "  demo_df_list = [pd.read_csv(demo_path + str(j) + '.csv').set_axis(['zip_code', 'age', 'ethnicity', 'income', 'count'], axis='columns') for j in range(start, stop)]\n",
        "  demo_df_concat = pd.concat(demo_df_list)\n",
        "  demo = pd.concat([demo, demo_df_concat])\n",
        "  del demo_df_list\n",
        "  del demo_df_concat\n",
        "\n",
        "# drop rows with zip codes from Puerto Rico and Virgin Islands for the purposes of this analysis (examining states only)\n",
        "demo.drop(demo[demo.zip_code < 1000].index, inplace=True)\n",
        "\n",
        "print(demo.shape)\n",
        "print(demo.columns)"
      ],
      "execution_count": 5,
      "outputs": [
        {
          "output_type": "stream",
          "text": [
            "(534000, 5)\n",
            "Index(['zip_code', 'age', 'ethnicity', 'income', 'count'], dtype='object')\n"
          ],
          "name": "stdout"
        }
      ]
    },
    {
      "cell_type": "code",
      "metadata": {
        "colab": {
          "base_uri": "https://localhost:8080/",
          "height": 197
        },
        "id": "ZcrXA6qD6l8d",
        "outputId": "6f52119f-3d6e-49e0-86ba-30c01262f9dc"
      },
      "source": [
        "demo.head()"
      ],
      "execution_count": 6,
      "outputs": [
        {
          "output_type": "execute_result",
          "data": {
            "text/html": [
              "<div>\n",
              "<style scoped>\n",
              "    .dataframe tbody tr th:only-of-type {\n",
              "        vertical-align: middle;\n",
              "    }\n",
              "\n",
              "    .dataframe tbody tr th {\n",
              "        vertical-align: top;\n",
              "    }\n",
              "\n",
              "    .dataframe thead th {\n",
              "        text-align: right;\n",
              "    }\n",
              "</style>\n",
              "<table border=\"1\" class=\"dataframe\">\n",
              "  <thead>\n",
              "    <tr style=\"text-align: right;\">\n",
              "      <th></th>\n",
              "      <th>zip_code</th>\n",
              "      <th>age</th>\n",
              "      <th>ethnicity</th>\n",
              "      <th>income</th>\n",
              "      <th>count</th>\n",
              "    </tr>\n",
              "  </thead>\n",
              "  <tbody>\n",
              "    <tr>\n",
              "      <th>19217</th>\n",
              "      <td>1001</td>\n",
              "      <td>18-23</td>\n",
              "      <td>African American</td>\n",
              "      <td>$125,000 - $149,999</td>\n",
              "      <td>1</td>\n",
              "    </tr>\n",
              "    <tr>\n",
              "      <th>19218</th>\n",
              "      <td>1001</td>\n",
              "      <td>18-23</td>\n",
              "      <td>African American</td>\n",
              "      <td>$20,000 - $29,999</td>\n",
              "      <td>4</td>\n",
              "    </tr>\n",
              "    <tr>\n",
              "      <th>19219</th>\n",
              "      <td>1001</td>\n",
              "      <td>18-23</td>\n",
              "      <td>African American</td>\n",
              "      <td>$30,000 - $39,999</td>\n",
              "      <td>1</td>\n",
              "    </tr>\n",
              "    <tr>\n",
              "      <th>19220</th>\n",
              "      <td>1001</td>\n",
              "      <td>18-23</td>\n",
              "      <td>African American</td>\n",
              "      <td>$50,000 - $74,999</td>\n",
              "      <td>2</td>\n",
              "    </tr>\n",
              "    <tr>\n",
              "      <th>19221</th>\n",
              "      <td>1001</td>\n",
              "      <td>18-23</td>\n",
              "      <td>Asian</td>\n",
              "      <td>$20,000 - $29,999</td>\n",
              "      <td>1</td>\n",
              "    </tr>\n",
              "  </tbody>\n",
              "</table>\n",
              "</div>"
            ],
            "text/plain": [
              "      zip_code    age         ethnicity               income count\n",
              "19217     1001  18-23  African American  $125,000 - $149,999     1\n",
              "19218     1001  18-23  African American    $20,000 - $29,999     4\n",
              "19219     1001  18-23  African American    $30,000 - $39,999     1\n",
              "19220     1001  18-23  African American    $50,000 - $74,999     2\n",
              "19221     1001  18-23             Asian    $20,000 - $29,999     1"
            ]
          },
          "metadata": {
            "tags": []
          },
          "execution_count": 6
        }
      ]
    },
    {
      "cell_type": "markdown",
      "metadata": {
        "id": "wyzk4Uyjh9Sg"
      },
      "source": [
        "## Building the Table to Compare Zip Code Frequencies between the Demographic Dataset (Expectations) and Impressions Dataset (Observations)"
      ]
    },
    {
      "cell_type": "code",
      "metadata": {
        "colab": {
          "base_uri": "https://localhost:8080/",
          "height": 227
        },
        "id": "zp9XmBn_C7bb",
        "outputId": "249fb0c7-dd45-492d-9bc3-60ed3aa32500"
      },
      "source": [
        "# computes the frequency of each zip code in the impression data \n",
        "imp_by_zip = pd.DataFrame(impressions['zip_code'].value_counts()).reset_index().rename(columns={\"zip_code\": \"impression_count\", \"index\": \"zip_code\"})\n",
        "imp_by_zip['zip_code'] = imp_by_zip['zip_code'].astype(int)\n",
        "imp_by_zip.set_index('zip_code', inplace=True)\n",
        "imp_by_zip['observed_zip_freq'] = impressions['zip_code'].value_counts(normalize=True)\n",
        "imp_by_zip.head()"
      ],
      "execution_count": 7,
      "outputs": [
        {
          "output_type": "execute_result",
          "data": {
            "text/html": [
              "<div>\n",
              "<style scoped>\n",
              "    .dataframe tbody tr th:only-of-type {\n",
              "        vertical-align: middle;\n",
              "    }\n",
              "\n",
              "    .dataframe tbody tr th {\n",
              "        vertical-align: top;\n",
              "    }\n",
              "\n",
              "    .dataframe thead th {\n",
              "        text-align: right;\n",
              "    }\n",
              "</style>\n",
              "<table border=\"1\" class=\"dataframe\">\n",
              "  <thead>\n",
              "    <tr style=\"text-align: right;\">\n",
              "      <th></th>\n",
              "      <th>impression_count</th>\n",
              "      <th>observed_zip_freq</th>\n",
              "    </tr>\n",
              "    <tr>\n",
              "      <th>zip_code</th>\n",
              "      <th></th>\n",
              "      <th></th>\n",
              "    </tr>\n",
              "  </thead>\n",
              "  <tbody>\n",
              "    <tr>\n",
              "      <th>36117</th>\n",
              "      <td>18317</td>\n",
              "      <td>0.000930</td>\n",
              "    </tr>\n",
              "    <tr>\n",
              "      <th>20149</th>\n",
              "      <td>17493</td>\n",
              "      <td>0.000888</td>\n",
              "    </tr>\n",
              "    <tr>\n",
              "      <th>65203</th>\n",
              "      <td>15266</td>\n",
              "      <td>0.000775</td>\n",
              "    </tr>\n",
              "    <tr>\n",
              "      <th>37042</th>\n",
              "      <td>13578</td>\n",
              "      <td>0.000689</td>\n",
              "    </tr>\n",
              "    <tr>\n",
              "      <th>63033</th>\n",
              "      <td>13285</td>\n",
              "      <td>0.000674</td>\n",
              "    </tr>\n",
              "  </tbody>\n",
              "</table>\n",
              "</div>"
            ],
            "text/plain": [
              "          impression_count  observed_zip_freq\n",
              "zip_code                                     \n",
              "36117                18317           0.000930\n",
              "20149                17493           0.000888\n",
              "65203                15266           0.000775\n",
              "37042                13578           0.000689\n",
              "63033                13285           0.000674"
            ]
          },
          "metadata": {
            "tags": []
          },
          "execution_count": 7
        }
      ]
    },
    {
      "cell_type": "code",
      "metadata": {
        "colab": {
          "base_uri": "https://localhost:8080/",
          "height": 227
        },
        "id": "zxfzcf0iC3s-",
        "outputId": "dd5ce3a1-dc64-4094-8213-d11554db0534"
      },
      "source": [
        "# after grouping the demographic data by zip code, computes the frequency of each zip code by the number of households \n",
        "demo_pop = demo['count'].sum()\n",
        "demo_pop_by_zip = demo.groupby(['zip_code']).agg({'count': 'sum'})\n",
        "demo_pop_by_zip.rename(columns={\"count\": \"household_count\"}, inplace=True)\n",
        "demo_pop_by_zip['household_count'] = demo_pop_by_zip['household_count'].astype(float)\n",
        "demo_pop_by_zip['expected_zip_freq'] = demo_pop_by_zip['household_count'] / demo_pop\n",
        "demo_pop_by_zip.head()"
      ],
      "execution_count": 8,
      "outputs": [
        {
          "output_type": "execute_result",
          "data": {
            "text/html": [
              "<div>\n",
              "<style scoped>\n",
              "    .dataframe tbody tr th:only-of-type {\n",
              "        vertical-align: middle;\n",
              "    }\n",
              "\n",
              "    .dataframe tbody tr th {\n",
              "        vertical-align: top;\n",
              "    }\n",
              "\n",
              "    .dataframe thead th {\n",
              "        text-align: right;\n",
              "    }\n",
              "</style>\n",
              "<table border=\"1\" class=\"dataframe\">\n",
              "  <thead>\n",
              "    <tr style=\"text-align: right;\">\n",
              "      <th></th>\n",
              "      <th>household_count</th>\n",
              "      <th>expected_zip_freq</th>\n",
              "    </tr>\n",
              "    <tr>\n",
              "      <th>zip_code</th>\n",
              "      <th></th>\n",
              "      <th></th>\n",
              "    </tr>\n",
              "  </thead>\n",
              "  <tbody>\n",
              "    <tr>\n",
              "      <th>1001</th>\n",
              "      <td>14822.0</td>\n",
              "      <td>8.815180e-04</td>\n",
              "    </tr>\n",
              "    <tr>\n",
              "      <th>1002</th>\n",
              "      <td>22030.0</td>\n",
              "      <td>1.310204e-03</td>\n",
              "    </tr>\n",
              "    <tr>\n",
              "      <th>1003</th>\n",
              "      <td>9.0</td>\n",
              "      <td>5.352626e-07</td>\n",
              "    </tr>\n",
              "    <tr>\n",
              "      <th>1004</th>\n",
              "      <td>462.0</td>\n",
              "      <td>2.747681e-05</td>\n",
              "    </tr>\n",
              "    <tr>\n",
              "      <th>1005</th>\n",
              "      <td>3954.0</td>\n",
              "      <td>2.351587e-04</td>\n",
              "    </tr>\n",
              "  </tbody>\n",
              "</table>\n",
              "</div>"
            ],
            "text/plain": [
              "          household_count  expected_zip_freq\n",
              "zip_code                                    \n",
              "1001              14822.0       8.815180e-04\n",
              "1002              22030.0       1.310204e-03\n",
              "1003                  9.0       5.352626e-07\n",
              "1004                462.0       2.747681e-05\n",
              "1005               3954.0       2.351587e-04"
            ]
          },
          "metadata": {
            "tags": []
          },
          "execution_count": 8
        }
      ]
    },
    {
      "cell_type": "code",
      "metadata": {
        "colab": {
          "base_uri": "https://localhost:8080/",
          "height": 227
        },
        "id": "rCCD4nCuC3D-",
        "outputId": "42e8564b-90e2-4208-8f74-5efbd5e8981c"
      },
      "source": [
        "# joins the two dataframes above on zip code (outer join because there are zip codes in each dataset that do not exist in the other dataset) \n",
        "zip_joined = pd.concat([imp_by_zip, demo_pop_by_zip], axis=1, join='outer', sort=False)\n",
        "# replace NaNs with 0 to make subtraction calculation in next cell\n",
        "zip_joined.fillna(0, inplace=True)\n",
        "zip_joined.head()"
      ],
      "execution_count": 9,
      "outputs": [
        {
          "output_type": "execute_result",
          "data": {
            "text/html": [
              "<div>\n",
              "<style scoped>\n",
              "    .dataframe tbody tr th:only-of-type {\n",
              "        vertical-align: middle;\n",
              "    }\n",
              "\n",
              "    .dataframe tbody tr th {\n",
              "        vertical-align: top;\n",
              "    }\n",
              "\n",
              "    .dataframe thead th {\n",
              "        text-align: right;\n",
              "    }\n",
              "</style>\n",
              "<table border=\"1\" class=\"dataframe\">\n",
              "  <thead>\n",
              "    <tr style=\"text-align: right;\">\n",
              "      <th></th>\n",
              "      <th>impression_count</th>\n",
              "      <th>observed_zip_freq</th>\n",
              "      <th>household_count</th>\n",
              "      <th>expected_zip_freq</th>\n",
              "    </tr>\n",
              "    <tr>\n",
              "      <th>zip_code</th>\n",
              "      <th></th>\n",
              "      <th></th>\n",
              "      <th></th>\n",
              "      <th></th>\n",
              "    </tr>\n",
              "  </thead>\n",
              "  <tbody>\n",
              "    <tr>\n",
              "      <th>1001</th>\n",
              "      <td>731.0</td>\n",
              "      <td>3.710612e-05</td>\n",
              "      <td>14822.0</td>\n",
              "      <td>8.815180e-04</td>\n",
              "    </tr>\n",
              "    <tr>\n",
              "      <th>1002</th>\n",
              "      <td>1365.0</td>\n",
              "      <td>6.928844e-05</td>\n",
              "      <td>22030.0</td>\n",
              "      <td>1.310204e-03</td>\n",
              "    </tr>\n",
              "    <tr>\n",
              "      <th>1003</th>\n",
              "      <td>8.0</td>\n",
              "      <td>4.060861e-07</td>\n",
              "      <td>9.0</td>\n",
              "      <td>5.352626e-07</td>\n",
              "    </tr>\n",
              "    <tr>\n",
              "      <th>1004</th>\n",
              "      <td>16.0</td>\n",
              "      <td>8.121722e-07</td>\n",
              "      <td>462.0</td>\n",
              "      <td>2.747681e-05</td>\n",
              "    </tr>\n",
              "    <tr>\n",
              "      <th>1005</th>\n",
              "      <td>15.0</td>\n",
              "      <td>7.614114e-07</td>\n",
              "      <td>3954.0</td>\n",
              "      <td>2.351587e-04</td>\n",
              "    </tr>\n",
              "  </tbody>\n",
              "</table>\n",
              "</div>"
            ],
            "text/plain": [
              "          impression_count  ...  expected_zip_freq\n",
              "zip_code                    ...                   \n",
              "1001                 731.0  ...       8.815180e-04\n",
              "1002                1365.0  ...       1.310204e-03\n",
              "1003                   8.0  ...       5.352626e-07\n",
              "1004                  16.0  ...       2.747681e-05\n",
              "1005                  15.0  ...       2.351587e-04\n",
              "\n",
              "[5 rows x 4 columns]"
            ]
          },
          "metadata": {
            "tags": []
          },
          "execution_count": 9
        }
      ]
    },
    {
      "cell_type": "code",
      "metadata": {
        "id": "URR5zraRlPuq",
        "colab": {
          "base_uri": "https://localhost:8080/",
          "height": 677
        },
        "outputId": "1f46cfd8-1d48-4cc0-f16b-4ce9a4de9929"
      },
      "source": [
        "# calculates differences between \"observed\" zip code frequencies from the impression data and \"expected\" zip code frequencies from the demographic data\n",
        "zip_joined['freq_difference'] = zip_joined['observed_zip_freq'] - zip_joined['expected_zip_freq']\n",
        "zip_joined = zip_joined[['impression_count', 'household_count',\t'observed_zip_freq',\t'expected_zip_freq', 'freq_difference']]\n",
        "zip_joined.sort_values(by='freq_difference', inplace=True)\n",
        "zip_joined.head(20)"
      ],
      "execution_count": 10,
      "outputs": [
        {
          "output_type": "execute_result",
          "data": {
            "text/html": [
              "<div>\n",
              "<style scoped>\n",
              "    .dataframe tbody tr th:only-of-type {\n",
              "        vertical-align: middle;\n",
              "    }\n",
              "\n",
              "    .dataframe tbody tr th {\n",
              "        vertical-align: top;\n",
              "    }\n",
              "\n",
              "    .dataframe thead th {\n",
              "        text-align: right;\n",
              "    }\n",
              "</style>\n",
              "<table border=\"1\" class=\"dataframe\">\n",
              "  <thead>\n",
              "    <tr style=\"text-align: right;\">\n",
              "      <th></th>\n",
              "      <th>impression_count</th>\n",
              "      <th>household_count</th>\n",
              "      <th>observed_zip_freq</th>\n",
              "      <th>expected_zip_freq</th>\n",
              "      <th>freq_difference</th>\n",
              "    </tr>\n",
              "    <tr>\n",
              "      <th>zip_code</th>\n",
              "      <th></th>\n",
              "      <th></th>\n",
              "      <th></th>\n",
              "      <th></th>\n",
              "      <th></th>\n",
              "    </tr>\n",
              "  </thead>\n",
              "  <tbody>\n",
              "    <tr>\n",
              "      <th>11375</th>\n",
              "      <td>4344.0</td>\n",
              "      <td>60730.0</td>\n",
              "      <td>0.000221</td>\n",
              "      <td>0.003612</td>\n",
              "      <td>-0.003391</td>\n",
              "    </tr>\n",
              "    <tr>\n",
              "      <th>11377</th>\n",
              "      <td>4199.0</td>\n",
              "      <td>59135.0</td>\n",
              "      <td>0.000213</td>\n",
              "      <td>0.003517</td>\n",
              "      <td>-0.003304</td>\n",
              "    </tr>\n",
              "    <tr>\n",
              "      <th>23464</th>\n",
              "      <td>9971.0</td>\n",
              "      <td>60145.0</td>\n",
              "      <td>0.000506</td>\n",
              "      <td>0.003577</td>\n",
              "      <td>-0.003071</td>\n",
              "    </tr>\n",
              "    <tr>\n",
              "      <th>60617</th>\n",
              "      <td>7754.0</td>\n",
              "      <td>58217.0</td>\n",
              "      <td>0.000394</td>\n",
              "      <td>0.003462</td>\n",
              "      <td>-0.003069</td>\n",
              "    </tr>\n",
              "    <tr>\n",
              "      <th>60618</th>\n",
              "      <td>8573.0</td>\n",
              "      <td>57487.0</td>\n",
              "      <td>0.000435</td>\n",
              "      <td>0.003419</td>\n",
              "      <td>-0.002984</td>\n",
              "    </tr>\n",
              "    <tr>\n",
              "      <th>77083</th>\n",
              "      <td>3512.0</td>\n",
              "      <td>53078.0</td>\n",
              "      <td>0.000178</td>\n",
              "      <td>0.003157</td>\n",
              "      <td>-0.002978</td>\n",
              "    </tr>\n",
              "    <tr>\n",
              "      <th>92114</th>\n",
              "      <td>2492.0</td>\n",
              "      <td>50140.0</td>\n",
              "      <td>0.000126</td>\n",
              "      <td>0.002982</td>\n",
              "      <td>-0.002856</td>\n",
              "    </tr>\n",
              "    <tr>\n",
              "      <th>11219</th>\n",
              "      <td>572.0</td>\n",
              "      <td>48029.0</td>\n",
              "      <td>0.000029</td>\n",
              "      <td>0.002856</td>\n",
              "      <td>-0.002827</td>\n",
              "    </tr>\n",
              "    <tr>\n",
              "      <th>19720</th>\n",
              "      <td>5350.0</td>\n",
              "      <td>51805.0</td>\n",
              "      <td>0.000272</td>\n",
              "      <td>0.003081</td>\n",
              "      <td>-0.002809</td>\n",
              "    </tr>\n",
              "    <tr>\n",
              "      <th>11220</th>\n",
              "      <td>712.0</td>\n",
              "      <td>47164.0</td>\n",
              "      <td>0.000036</td>\n",
              "      <td>0.002805</td>\n",
              "      <td>-0.002769</td>\n",
              "    </tr>\n",
              "    <tr>\n",
              "      <th>32822</th>\n",
              "      <td>4786.0</td>\n",
              "      <td>50144.0</td>\n",
              "      <td>0.000243</td>\n",
              "      <td>0.002982</td>\n",
              "      <td>-0.002739</td>\n",
              "    </tr>\n",
              "    <tr>\n",
              "      <th>75035</th>\n",
              "      <td>3774.0</td>\n",
              "      <td>48698.0</td>\n",
              "      <td>0.000192</td>\n",
              "      <td>0.002896</td>\n",
              "      <td>-0.002705</td>\n",
              "    </tr>\n",
              "    <tr>\n",
              "      <th>43130</th>\n",
              "      <td>7055.0</td>\n",
              "      <td>51097.0</td>\n",
              "      <td>0.000358</td>\n",
              "      <td>0.003039</td>\n",
              "      <td>-0.002681</td>\n",
              "    </tr>\n",
              "    <tr>\n",
              "      <th>15601</th>\n",
              "      <td>4040.0</td>\n",
              "      <td>47345.0</td>\n",
              "      <td>0.000205</td>\n",
              "      <td>0.002816</td>\n",
              "      <td>-0.002611</td>\n",
              "    </tr>\n",
              "    <tr>\n",
              "      <th>10016</th>\n",
              "      <td>5060.0</td>\n",
              "      <td>47854.0</td>\n",
              "      <td>0.000257</td>\n",
              "      <td>0.002846</td>\n",
              "      <td>-0.002589</td>\n",
              "    </tr>\n",
              "    <tr>\n",
              "      <th>32174</th>\n",
              "      <td>6485.0</td>\n",
              "      <td>48571.0</td>\n",
              "      <td>0.000329</td>\n",
              "      <td>0.002889</td>\n",
              "      <td>-0.002560</td>\n",
              "    </tr>\n",
              "    <tr>\n",
              "      <th>48044</th>\n",
              "      <td>2222.0</td>\n",
              "      <td>44931.0</td>\n",
              "      <td>0.000113</td>\n",
              "      <td>0.002672</td>\n",
              "      <td>-0.002559</td>\n",
              "    </tr>\n",
              "    <tr>\n",
              "      <th>78228</th>\n",
              "      <td>3782.0</td>\n",
              "      <td>45004.0</td>\n",
              "      <td>0.000192</td>\n",
              "      <td>0.002677</td>\n",
              "      <td>-0.002485</td>\n",
              "    </tr>\n",
              "    <tr>\n",
              "      <th>92021</th>\n",
              "      <td>2246.0</td>\n",
              "      <td>42950.0</td>\n",
              "      <td>0.000114</td>\n",
              "      <td>0.002554</td>\n",
              "      <td>-0.002440</td>\n",
              "    </tr>\n",
              "    <tr>\n",
              "      <th>84015</th>\n",
              "      <td>1100.0</td>\n",
              "      <td>41962.0</td>\n",
              "      <td>0.000056</td>\n",
              "      <td>0.002496</td>\n",
              "      <td>-0.002440</td>\n",
              "    </tr>\n",
              "  </tbody>\n",
              "</table>\n",
              "</div>"
            ],
            "text/plain": [
              "          impression_count  household_count  ...  expected_zip_freq  freq_difference\n",
              "zip_code                                     ...                                    \n",
              "11375               4344.0          60730.0  ...           0.003612        -0.003391\n",
              "11377               4199.0          59135.0  ...           0.003517        -0.003304\n",
              "23464               9971.0          60145.0  ...           0.003577        -0.003071\n",
              "60617               7754.0          58217.0  ...           0.003462        -0.003069\n",
              "60618               8573.0          57487.0  ...           0.003419        -0.002984\n",
              "77083               3512.0          53078.0  ...           0.003157        -0.002978\n",
              "92114               2492.0          50140.0  ...           0.002982        -0.002856\n",
              "11219                572.0          48029.0  ...           0.002856        -0.002827\n",
              "19720               5350.0          51805.0  ...           0.003081        -0.002809\n",
              "11220                712.0          47164.0  ...           0.002805        -0.002769\n",
              "32822               4786.0          50144.0  ...           0.002982        -0.002739\n",
              "75035               3774.0          48698.0  ...           0.002896        -0.002705\n",
              "43130               7055.0          51097.0  ...           0.003039        -0.002681\n",
              "15601               4040.0          47345.0  ...           0.002816        -0.002611\n",
              "10016               5060.0          47854.0  ...           0.002846        -0.002589\n",
              "32174               6485.0          48571.0  ...           0.002889        -0.002560\n",
              "48044               2222.0          44931.0  ...           0.002672        -0.002559\n",
              "78228               3782.0          45004.0  ...           0.002677        -0.002485\n",
              "92021               2246.0          42950.0  ...           0.002554        -0.002440\n",
              "84015               1100.0          41962.0  ...           0.002496        -0.002440\n",
              "\n",
              "[20 rows x 5 columns]"
            ]
          },
          "metadata": {
            "tags": []
          },
          "execution_count": 10
        }
      ]
    },
    {
      "cell_type": "markdown",
      "metadata": {
        "id": "GAMosIhWlQVU"
      },
      "source": [
        "## Sampling the Demographic Dataset According to the Observed Frequency of a Given Zip Code in the Impression Dataset to Approximate the Demographics of the Reached Audience at this Zip Code"
      ]
    },
    {
      "cell_type": "code",
      "metadata": {
        "id": "Dw5YopMP67VV"
      },
      "source": [
        "# given a zip code and DataFrame comparing zip code frequencies, produces a simulation of the demographic features of the audience behind the impressions \\ \n",
        "# (with those features being age, ethnicity, and income) \n",
        "def sample_zip_demographics(zip_code, zip_joined):\n",
        "  demo_zip = demo[demo['zip_code'] == zip_code].copy()\n",
        "  demo_zip_total = demo_zip['count'].sum()\n",
        "  impression_counts = demo_zip['count'] * (zip_joined[zip_joined.index == zip_code]['observed_zip_freq'].values[0] / zip_joined[zip_joined.index == zip_code]['expected_zip_freq'].values[0])\n",
        "  impression_counts_total = impression_counts.sum() \n",
        "  # gets simulated frequency of each (age, ethnicity, income) triple after reweighting by the number of impressions at this zip code instead of by the number of households\n",
        "  impression_freqs = impression_counts / impression_counts_total\n",
        "  \n",
        "  demo_zip.reset_index(drop=True, inplace=True)\n",
        "  demo_zip.reset_index(inplace=True)\n",
        "  \n",
        "  # adds noise to simulated frequencies to introduce more randomness to the sampling\n",
        "  indices = [i for i in demo_zip['index']]\n",
        "  freqs = np.array([f for f in impression_freqs])\n",
        "  searching = True\n",
        "  while searching:\n",
        "    freqs_plus_noise = freqs + np.random.normal(0, impression_freqs.min() * 20, size=len(freqs))\n",
        "    freqs_plus_noise = np.clip(freqs_plus_noise, 0, 1)\n",
        "    total_freq = sum(freqs_plus_noise)\n",
        "    if total_freq > 0:\n",
        "      freqs_plus_noise = freqs_plus_noise / total_freq\n",
        "      searching = False\n",
        "\n",
        "  # samples using the generated frequencies and outputs new DataFrame\n",
        "  num_samples = round(impression_counts_total)\n",
        "  samples = np.random.choice(a=indices, size=num_samples, p=freqs_plus_noise)\n",
        "  impression_sample = np.bincount(samples, minlength=len(indices))\n",
        "  demo_zip['impression_sample'] = impression_sample\n",
        "  demo_zip['expected_freq'] = demo_zip['count'] / demo_zip_total\n",
        "  demo_zip['sample_freq'] = demo_zip['impression_sample'] / num_samples\n",
        "  demo_zip.drop(columns=['index'], inplace=True)\n",
        "  return demo_zip"
      ],
      "execution_count": 11,
      "outputs": []
    },
    {
      "cell_type": "code",
      "metadata": {
        "colab": {
          "base_uri": "https://localhost:8080/",
          "height": 406
        },
        "id": "f0TdcyuS9pVQ",
        "outputId": "7a4401c1-0094-478b-9755-93dad6357345"
      },
      "source": [
        "# example output of sample_zip_demographics\n",
        "demo_11375 = sample_zip_demographics(11375, zip_joined)\n",
        "demo_11375"
      ],
      "execution_count": 12,
      "outputs": [
        {
          "output_type": "execute_result",
          "data": {
            "text/html": [
              "<div>\n",
              "<style scoped>\n",
              "    .dataframe tbody tr th:only-of-type {\n",
              "        vertical-align: middle;\n",
              "    }\n",
              "\n",
              "    .dataframe tbody tr th {\n",
              "        vertical-align: top;\n",
              "    }\n",
              "\n",
              "    .dataframe thead th {\n",
              "        text-align: right;\n",
              "    }\n",
              "</style>\n",
              "<table border=\"1\" class=\"dataframe\">\n",
              "  <thead>\n",
              "    <tr style=\"text-align: right;\">\n",
              "      <th></th>\n",
              "      <th>zip_code</th>\n",
              "      <th>age</th>\n",
              "      <th>ethnicity</th>\n",
              "      <th>income</th>\n",
              "      <th>count</th>\n",
              "      <th>impression_sample</th>\n",
              "      <th>expected_freq</th>\n",
              "      <th>sample_freq</th>\n",
              "    </tr>\n",
              "  </thead>\n",
              "  <tbody>\n",
              "    <tr>\n",
              "      <th>0</th>\n",
              "      <td>11375</td>\n",
              "      <td>18-23</td>\n",
              "      <td>African American</td>\n",
              "      <td>$15,000 - $19,999</td>\n",
              "      <td>1</td>\n",
              "      <td>0</td>\n",
              "      <td>1.64663e-05</td>\n",
              "      <td>0.00000</td>\n",
              "    </tr>\n",
              "    <tr>\n",
              "      <th>1</th>\n",
              "      <td>11375</td>\n",
              "      <td>18-23</td>\n",
              "      <td>African American</td>\n",
              "      <td>$20,000 - $29,999</td>\n",
              "      <td>2</td>\n",
              "      <td>0</td>\n",
              "      <td>3.29327e-05</td>\n",
              "      <td>0.00000</td>\n",
              "    </tr>\n",
              "    <tr>\n",
              "      <th>2</th>\n",
              "      <td>11375</td>\n",
              "      <td>18-23</td>\n",
              "      <td>African American</td>\n",
              "      <td>$30,000 - $39,999</td>\n",
              "      <td>2</td>\n",
              "      <td>0</td>\n",
              "      <td>3.29327e-05</td>\n",
              "      <td>0.00000</td>\n",
              "    </tr>\n",
              "    <tr>\n",
              "      <th>3</th>\n",
              "      <td>11375</td>\n",
              "      <td>18-23</td>\n",
              "      <td>African American</td>\n",
              "      <td>$40,000 - $49,999</td>\n",
              "      <td>1</td>\n",
              "      <td>0</td>\n",
              "      <td>1.64663e-05</td>\n",
              "      <td>0.00000</td>\n",
              "    </tr>\n",
              "    <tr>\n",
              "      <th>4</th>\n",
              "      <td>11375</td>\n",
              "      <td>18-23</td>\n",
              "      <td>African American</td>\n",
              "      <td>$50,000 - $74,999</td>\n",
              "      <td>3</td>\n",
              "      <td>0</td>\n",
              "      <td>4.9399e-05</td>\n",
              "      <td>0.00000</td>\n",
              "    </tr>\n",
              "    <tr>\n",
              "      <th>...</th>\n",
              "      <td>...</td>\n",
              "      <td>...</td>\n",
              "      <td>...</td>\n",
              "      <td>...</td>\n",
              "      <td>...</td>\n",
              "      <td>...</td>\n",
              "      <td>...</td>\n",
              "      <td>...</td>\n",
              "    </tr>\n",
              "    <tr>\n",
              "      <th>532</th>\n",
              "      <td>11375</td>\n",
              "      <td>not_reported</td>\n",
              "      <td>not_reported</td>\n",
              "      <td>$100,000 - $124,999</td>\n",
              "      <td>517</td>\n",
              "      <td>32</td>\n",
              "      <td>0.00851309</td>\n",
              "      <td>0.00863</td>\n",
              "    </tr>\n",
              "    <tr>\n",
              "      <th>533</th>\n",
              "      <td>11375</td>\n",
              "      <td>not_reported</td>\n",
              "      <td>not_reported</td>\n",
              "      <td>$40,000 - $49,999</td>\n",
              "      <td>4</td>\n",
              "      <td>0</td>\n",
              "      <td>6.58653e-05</td>\n",
              "      <td>0.00000</td>\n",
              "    </tr>\n",
              "    <tr>\n",
              "      <th>534</th>\n",
              "      <td>11375</td>\n",
              "      <td>not_reported</td>\n",
              "      <td>not_reported</td>\n",
              "      <td>$50,000 - $74,999</td>\n",
              "      <td>3</td>\n",
              "      <td>0</td>\n",
              "      <td>4.9399e-05</td>\n",
              "      <td>0.00000</td>\n",
              "    </tr>\n",
              "    <tr>\n",
              "      <th>535</th>\n",
              "      <td>11375</td>\n",
              "      <td>not_reported</td>\n",
              "      <td>not_reported</td>\n",
              "      <td>$75,000 - $99,999</td>\n",
              "      <td>12</td>\n",
              "      <td>0</td>\n",
              "      <td>0.000197596</td>\n",
              "      <td>0.00000</td>\n",
              "    </tr>\n",
              "    <tr>\n",
              "      <th>536</th>\n",
              "      <td>11375</td>\n",
              "      <td>not_reported</td>\n",
              "      <td>not_reported</td>\n",
              "      <td>not_reported</td>\n",
              "      <td>31</td>\n",
              "      <td>0</td>\n",
              "      <td>0.000510456</td>\n",
              "      <td>0.00000</td>\n",
              "    </tr>\n",
              "  </tbody>\n",
              "</table>\n",
              "<p>537 rows × 8 columns</p>\n",
              "</div>"
            ],
            "text/plain": [
              "    zip_code           age  ... expected_freq sample_freq\n",
              "0      11375         18-23  ...   1.64663e-05     0.00000\n",
              "1      11375         18-23  ...   3.29327e-05     0.00000\n",
              "2      11375         18-23  ...   3.29327e-05     0.00000\n",
              "3      11375         18-23  ...   1.64663e-05     0.00000\n",
              "4      11375         18-23  ...    4.9399e-05     0.00000\n",
              "..       ...           ...  ...           ...         ...\n",
              "532    11375  not_reported  ...    0.00851309     0.00863\n",
              "533    11375  not_reported  ...   6.58653e-05     0.00000\n",
              "534    11375  not_reported  ...    4.9399e-05     0.00000\n",
              "535    11375  not_reported  ...   0.000197596     0.00000\n",
              "536    11375  not_reported  ...   0.000510456     0.00000\n",
              "\n",
              "[537 rows x 8 columns]"
            ]
          },
          "metadata": {
            "tags": []
          },
          "execution_count": 12
        }
      ]
    },
    {
      "cell_type": "code",
      "metadata": {
        "colab": {
          "base_uri": "https://localhost:8080/",
          "height": 377
        },
        "id": "iNd-x6elciFE",
        "outputId": "0b99ac13-4fed-4070-fa3d-3b2beca628de"
      },
      "source": [
        "# filter output of sample_zip_demographics by feature, in this case by age\n",
        "age_grouped = demo_11375.groupby(['zip_code', 'age']).agg({'count': 'sum', 'impression_sample': 'sum', 'expected_freq': 'sum', 'sample_freq': 'sum'})\n",
        "age_grouped"
      ],
      "execution_count": 13,
      "outputs": [
        {
          "output_type": "execute_result",
          "data": {
            "text/html": [
              "<div>\n",
              "<style scoped>\n",
              "    .dataframe tbody tr th:only-of-type {\n",
              "        vertical-align: middle;\n",
              "    }\n",
              "\n",
              "    .dataframe tbody tr th {\n",
              "        vertical-align: top;\n",
              "    }\n",
              "\n",
              "    .dataframe thead th {\n",
              "        text-align: right;\n",
              "    }\n",
              "</style>\n",
              "<table border=\"1\" class=\"dataframe\">\n",
              "  <thead>\n",
              "    <tr style=\"text-align: right;\">\n",
              "      <th></th>\n",
              "      <th></th>\n",
              "      <th>count</th>\n",
              "      <th>impression_sample</th>\n",
              "      <th>expected_freq</th>\n",
              "      <th>sample_freq</th>\n",
              "    </tr>\n",
              "    <tr>\n",
              "      <th>zip_code</th>\n",
              "      <th>age</th>\n",
              "      <th></th>\n",
              "      <th></th>\n",
              "      <th></th>\n",
              "      <th></th>\n",
              "    </tr>\n",
              "  </thead>\n",
              "  <tbody>\n",
              "    <tr>\n",
              "      <th rowspan=\"10\" valign=\"top\">11375</th>\n",
              "      <th>18-23</th>\n",
              "      <td>1227</td>\n",
              "      <td>86</td>\n",
              "      <td>0.020204</td>\n",
              "      <td>0.023193</td>\n",
              "    </tr>\n",
              "    <tr>\n",
              "      <th>24-29</th>\n",
              "      <td>2514</td>\n",
              "      <td>159</td>\n",
              "      <td>0.041396</td>\n",
              "      <td>0.042880</td>\n",
              "    </tr>\n",
              "    <tr>\n",
              "      <th>30-35</th>\n",
              "      <td>4139</td>\n",
              "      <td>228</td>\n",
              "      <td>0.068154</td>\n",
              "      <td>0.061489</td>\n",
              "    </tr>\n",
              "    <tr>\n",
              "      <th>36-41</th>\n",
              "      <td>5027</td>\n",
              "      <td>297</td>\n",
              "      <td>0.082776</td>\n",
              "      <td>0.080097</td>\n",
              "    </tr>\n",
              "    <tr>\n",
              "      <th>42-47</th>\n",
              "      <td>5497</td>\n",
              "      <td>351</td>\n",
              "      <td>0.090515</td>\n",
              "      <td>0.094660</td>\n",
              "    </tr>\n",
              "    <tr>\n",
              "      <th>48-53</th>\n",
              "      <td>5757</td>\n",
              "      <td>366</td>\n",
              "      <td>0.094797</td>\n",
              "      <td>0.098706</td>\n",
              "    </tr>\n",
              "    <tr>\n",
              "      <th>54-59</th>\n",
              "      <td>5776</td>\n",
              "      <td>324</td>\n",
              "      <td>0.095110</td>\n",
              "      <td>0.087379</td>\n",
              "    </tr>\n",
              "    <tr>\n",
              "      <th>60-65</th>\n",
              "      <td>5726</td>\n",
              "      <td>342</td>\n",
              "      <td>0.094286</td>\n",
              "      <td>0.092233</td>\n",
              "    </tr>\n",
              "    <tr>\n",
              "      <th>66 and above</th>\n",
              "      <td>17060</td>\n",
              "      <td>1038</td>\n",
              "      <td>0.280916</td>\n",
              "      <td>0.279935</td>\n",
              "    </tr>\n",
              "    <tr>\n",
              "      <th>not_reported</th>\n",
              "      <td>8007</td>\n",
              "      <td>517</td>\n",
              "      <td>0.131846</td>\n",
              "      <td>0.139428</td>\n",
              "    </tr>\n",
              "  </tbody>\n",
              "</table>\n",
              "</div>"
            ],
            "text/plain": [
              "                       count  impression_sample  expected_freq  sample_freq\n",
              "zip_code age                                                               \n",
              "11375    18-23          1227                 86       0.020204     0.023193\n",
              "         24-29          2514                159       0.041396     0.042880\n",
              "         30-35          4139                228       0.068154     0.061489\n",
              "         36-41          5027                297       0.082776     0.080097\n",
              "         42-47          5497                351       0.090515     0.094660\n",
              "         48-53          5757                366       0.094797     0.098706\n",
              "         54-59          5776                324       0.095110     0.087379\n",
              "         60-65          5726                342       0.094286     0.092233\n",
              "         66 and above  17060               1038       0.280916     0.279935\n",
              "         not_reported   8007                517       0.131846     0.139428"
            ]
          },
          "metadata": {
            "tags": []
          },
          "execution_count": 13
        }
      ]
    },
    {
      "cell_type": "code",
      "metadata": {
        "colab": {
          "base_uri": "https://localhost:8080/",
          "height": 227
        },
        "id": "hsZTTtnbf47r",
        "outputId": "7b963bab-9612-4060-8527-30af9ca0fc1a"
      },
      "source": [
        "# filter output of sample_zip_demographics by feature, in this case by ethnicity\n",
        "ethnicity_grouped = demo_11375.groupby(['zip_code', 'ethnicity']).agg({'count': 'sum', 'impression_sample': 'sum', 'expected_freq': 'sum', 'sample_freq': 'sum'})\n",
        "ethnicity_grouped"
      ],
      "execution_count": 14,
      "outputs": [
        {
          "output_type": "execute_result",
          "data": {
            "text/html": [
              "<div>\n",
              "<style scoped>\n",
              "    .dataframe tbody tr th:only-of-type {\n",
              "        vertical-align: middle;\n",
              "    }\n",
              "\n",
              "    .dataframe tbody tr th {\n",
              "        vertical-align: top;\n",
              "    }\n",
              "\n",
              "    .dataframe thead th {\n",
              "        text-align: right;\n",
              "    }\n",
              "</style>\n",
              "<table border=\"1\" class=\"dataframe\">\n",
              "  <thead>\n",
              "    <tr style=\"text-align: right;\">\n",
              "      <th></th>\n",
              "      <th></th>\n",
              "      <th>count</th>\n",
              "      <th>impression_sample</th>\n",
              "      <th>expected_freq</th>\n",
              "      <th>sample_freq</th>\n",
              "    </tr>\n",
              "    <tr>\n",
              "      <th>zip_code</th>\n",
              "      <th>ethnicity</th>\n",
              "      <th></th>\n",
              "      <th></th>\n",
              "      <th></th>\n",
              "      <th></th>\n",
              "    </tr>\n",
              "  </thead>\n",
              "  <tbody>\n",
              "    <tr>\n",
              "      <th rowspan=\"5\" valign=\"top\">11375</th>\n",
              "      <th>African American</th>\n",
              "      <td>1188</td>\n",
              "      <td>84</td>\n",
              "      <td>0.019562</td>\n",
              "      <td>0.022654</td>\n",
              "    </tr>\n",
              "    <tr>\n",
              "      <th>Asian</th>\n",
              "      <td>13981</td>\n",
              "      <td>847</td>\n",
              "      <td>0.230216</td>\n",
              "      <td>0.228425</td>\n",
              "    </tr>\n",
              "    <tr>\n",
              "      <th>Hispanic</th>\n",
              "      <td>7293</td>\n",
              "      <td>505</td>\n",
              "      <td>0.120089</td>\n",
              "      <td>0.136192</td>\n",
              "    </tr>\n",
              "    <tr>\n",
              "      <th>White</th>\n",
              "      <td>37701</td>\n",
              "      <td>2240</td>\n",
              "      <td>0.620797</td>\n",
              "      <td>0.604099</td>\n",
              "    </tr>\n",
              "    <tr>\n",
              "      <th>not_reported</th>\n",
              "      <td>567</td>\n",
              "      <td>32</td>\n",
              "      <td>0.009336</td>\n",
              "      <td>0.008630</td>\n",
              "    </tr>\n",
              "  </tbody>\n",
              "</table>\n",
              "</div>"
            ],
            "text/plain": [
              "                           count  impression_sample  expected_freq  sample_freq\n",
              "zip_code ethnicity                                                             \n",
              "11375    African American   1188                 84       0.019562     0.022654\n",
              "         Asian             13981                847       0.230216     0.228425\n",
              "         Hispanic           7293                505       0.120089     0.136192\n",
              "         White             37701               2240       0.620797     0.604099\n",
              "         not_reported        567                 32       0.009336     0.008630"
            ]
          },
          "metadata": {
            "tags": []
          },
          "execution_count": 14
        }
      ]
    },
    {
      "cell_type": "code",
      "metadata": {
        "colab": {
          "base_uri": "https://localhost:8080/",
          "height": 497
        },
        "id": "SuIdXcWolOs3",
        "outputId": "58e548a6-2465-4f83-e409-530c8cd0dfca"
      },
      "source": [
        "# filter output of sample_zip_demographics by feature, in this case by income\n",
        "income_grouped = demo_11375.groupby(['zip_code', 'income']).agg({'count': 'sum', 'impression_sample': 'sum', 'expected_freq': 'sum', 'sample_freq': 'sum'})\n",
        "income_grouped"
      ],
      "execution_count": 15,
      "outputs": [
        {
          "output_type": "execute_result",
          "data": {
            "text/html": [
              "<div>\n",
              "<style scoped>\n",
              "    .dataframe tbody tr th:only-of-type {\n",
              "        vertical-align: middle;\n",
              "    }\n",
              "\n",
              "    .dataframe tbody tr th {\n",
              "        vertical-align: top;\n",
              "    }\n",
              "\n",
              "    .dataframe thead th {\n",
              "        text-align: right;\n",
              "    }\n",
              "</style>\n",
              "<table border=\"1\" class=\"dataframe\">\n",
              "  <thead>\n",
              "    <tr style=\"text-align: right;\">\n",
              "      <th></th>\n",
              "      <th></th>\n",
              "      <th>count</th>\n",
              "      <th>impression_sample</th>\n",
              "      <th>expected_freq</th>\n",
              "      <th>sample_freq</th>\n",
              "    </tr>\n",
              "    <tr>\n",
              "      <th>zip_code</th>\n",
              "      <th>income</th>\n",
              "      <th></th>\n",
              "      <th></th>\n",
              "      <th></th>\n",
              "      <th></th>\n",
              "    </tr>\n",
              "  </thead>\n",
              "  <tbody>\n",
              "    <tr>\n",
              "      <th rowspan=\"14\" valign=\"top\">11375</th>\n",
              "      <th>$1,000 - $14,999</th>\n",
              "      <td>1166</td>\n",
              "      <td>96</td>\n",
              "      <td>0.019200</td>\n",
              "      <td>0.025890</td>\n",
              "    </tr>\n",
              "    <tr>\n",
              "      <th>$100,000 - $124,999</th>\n",
              "      <td>7609</td>\n",
              "      <td>449</td>\n",
              "      <td>0.125292</td>\n",
              "      <td>0.121090</td>\n",
              "    </tr>\n",
              "    <tr>\n",
              "      <th>$125,000 - $149,999</th>\n",
              "      <td>2150</td>\n",
              "      <td>129</td>\n",
              "      <td>0.035403</td>\n",
              "      <td>0.034790</td>\n",
              "    </tr>\n",
              "    <tr>\n",
              "      <th>$15,000 - $19,999</th>\n",
              "      <td>1424</td>\n",
              "      <td>76</td>\n",
              "      <td>0.023448</td>\n",
              "      <td>0.020496</td>\n",
              "    </tr>\n",
              "    <tr>\n",
              "      <th>$150,000 - $174,999</th>\n",
              "      <td>1035</td>\n",
              "      <td>88</td>\n",
              "      <td>0.017043</td>\n",
              "      <td>0.023732</td>\n",
              "    </tr>\n",
              "    <tr>\n",
              "      <th>$175,000 - $199,999</th>\n",
              "      <td>756</td>\n",
              "      <td>58</td>\n",
              "      <td>0.012449</td>\n",
              "      <td>0.015642</td>\n",
              "    </tr>\n",
              "    <tr>\n",
              "      <th>$20,000 - $29,999</th>\n",
              "      <td>3516</td>\n",
              "      <td>200</td>\n",
              "      <td>0.057896</td>\n",
              "      <td>0.053937</td>\n",
              "    </tr>\n",
              "    <tr>\n",
              "      <th>$200,000 - $249,999</th>\n",
              "      <td>878</td>\n",
              "      <td>62</td>\n",
              "      <td>0.014457</td>\n",
              "      <td>0.016721</td>\n",
              "    </tr>\n",
              "    <tr>\n",
              "      <th>$250,000 or greater</th>\n",
              "      <td>1552</td>\n",
              "      <td>86</td>\n",
              "      <td>0.025556</td>\n",
              "      <td>0.023193</td>\n",
              "    </tr>\n",
              "    <tr>\n",
              "      <th>$30,000 - $39,999</th>\n",
              "      <td>3321</td>\n",
              "      <td>171</td>\n",
              "      <td>0.054685</td>\n",
              "      <td>0.046117</td>\n",
              "    </tr>\n",
              "    <tr>\n",
              "      <th>$40,000 - $49,999</th>\n",
              "      <td>3676</td>\n",
              "      <td>250</td>\n",
              "      <td>0.060530</td>\n",
              "      <td>0.067422</td>\n",
              "    </tr>\n",
              "    <tr>\n",
              "      <th>$50,000 - $74,999</th>\n",
              "      <td>16316</td>\n",
              "      <td>1005</td>\n",
              "      <td>0.268665</td>\n",
              "      <td>0.271036</td>\n",
              "    </tr>\n",
              "    <tr>\n",
              "      <th>$75,000 - $99,999</th>\n",
              "      <td>11830</td>\n",
              "      <td>687</td>\n",
              "      <td>0.194797</td>\n",
              "      <td>0.185275</td>\n",
              "    </tr>\n",
              "    <tr>\n",
              "      <th>not_reported</th>\n",
              "      <td>5501</td>\n",
              "      <td>351</td>\n",
              "      <td>0.090581</td>\n",
              "      <td>0.094660</td>\n",
              "    </tr>\n",
              "  </tbody>\n",
              "</table>\n",
              "</div>"
            ],
            "text/plain": [
              "                              count  ...  sample_freq\n",
              "zip_code income                      ...             \n",
              "11375    $1,000 - $14,999      1166  ...     0.025890\n",
              "         $100,000 - $124,999   7609  ...     0.121090\n",
              "         $125,000 - $149,999   2150  ...     0.034790\n",
              "         $15,000 - $19,999     1424  ...     0.020496\n",
              "         $150,000 - $174,999   1035  ...     0.023732\n",
              "         $175,000 - $199,999    756  ...     0.015642\n",
              "         $20,000 - $29,999     3516  ...     0.053937\n",
              "         $200,000 - $249,999    878  ...     0.016721\n",
              "         $250,000 or greater   1552  ...     0.023193\n",
              "         $30,000 - $39,999     3321  ...     0.046117\n",
              "         $40,000 - $49,999     3676  ...     0.067422\n",
              "         $50,000 - $74,999    16316  ...     0.271036\n",
              "         $75,000 - $99,999    11830  ...     0.185275\n",
              "         not_reported          5501  ...     0.094660\n",
              "\n",
              "[14 rows x 4 columns]"
            ]
          },
          "metadata": {
            "tags": []
          },
          "execution_count": 15
        }
      ]
    },
    {
      "cell_type": "markdown",
      "metadata": {
        "id": "Fe3AIdu0lTgj"
      },
      "source": [
        "## Measuring Bias Against a Given Zip Code and Feature"
      ]
    },
    {
      "cell_type": "code",
      "metadata": {
        "id": "YFG2gj6XL64_"
      },
      "source": [
        "import scipy\n",
        "from scipy.special import rel_entr\n",
        "from scipy.spatial.distance import jensenshannon\n",
        "from scipy.stats import chisquare\n",
        "\n",
        "# measures bias of a given feature in a zip code by comparing expected and observed distributions.\n",
        "# has three options for metrics: Kullback-Leibler (KL) Divergence, Jensen-Shannon (JS) Divergence, and Chi-Squared Test.\n",
        "def calculate_bias(p, q, zip_code, bias_metric):\n",
        "  total_freq_o = zip_joined[zip_joined.index == zip_code]['observed_zip_freq'].values[0]\n",
        "  total_freq_e = zip_joined[zip_joined.index == zip_code]['expected_zip_freq'].values[0]\n",
        "  sign = np.sign(zip_joined[zip_joined.index == zip_code]['freq_difference'].values)[0]\n",
        "  \n",
        "  # for the KL and JS Divergences, result is weighted by the ratio of observed to expected zip frequency and the sign \\ \n",
        "  # of the difference of these values, so underrepresented (zip code, feature) pairs have negative bias scores and \\ \n",
        "  # overrepresented (zip code, feature) pairs have positive bias scores \n",
        "  if bias_metric == 0 or bias_metric == 'kl': # Kullback-Leibler Divergence \n",
        "    return sum(rel_entr(p, q)) / (total_freq_o / total_freq_e) * sign\n",
        "  elif bias_metric == 1 or bias_metric == 'js': # Jensen-Shannon Divergence\n",
        "    return jensenshannon(p, q) / (total_freq_o / total_freq_e) * sign\n",
        "  elif bias_metric == 2 or bias_metric == 'chi2': # Chi-Squared Test\n",
        "    return chisquare(p, q) "
      ],
      "execution_count": 16,
      "outputs": []
    },
    {
      "cell_type": "code",
      "metadata": {
        "colab": {
          "base_uri": "https://localhost:8080/"
        },
        "id": "Gahgt8ATNnPT",
        "outputId": "e473de7e-9279-4a72-ad5d-a7049d06afe4"
      },
      "source": [
        "# calculates bias scores of zip code 11375 on each of the three demographic features using each of the three metrics \n",
        "age_grouped.reset_index(inplace=True)\n",
        "print('Comparing Bias of Age Distributions for Zip Code: 11375')\n",
        "print('Kullback-Leibler Divergence: ' + str(calculate_bias(age_grouped['expected_freq'], age_grouped['sample_freq'], 11375, 0)))\n",
        "print('Jensen-Shannon Divergence: ' + str(calculate_bias(age_grouped['expected_freq'], age_grouped['sample_freq'], 11375, 1)))\n",
        "print('Chi-Squared Test: ' + str(calculate_bias(age_grouped['count'], age_grouped['impression_sample'], 11375, 2)))\n",
        "print()\n",
        "\n",
        "ethnicity_grouped.reset_index(inplace=True)\n",
        "print('Comparing Bias of Ethnicity Distributions for Zip Code: 11375')\n",
        "print('Kullback-Leibler Divergence: ' + str(calculate_bias(ethnicity_grouped['expected_freq'], ethnicity_grouped['sample_freq'], 11375, 0)))\n",
        "print('Jensen-Shannon Divergence: ' + str(calculate_bias(ethnicity_grouped['expected_freq'], ethnicity_grouped['sample_freq'], 11375, 1)))\n",
        "print('Chi-Squared Test: ' + str(calculate_bias(ethnicity_grouped['count'], ethnicity_grouped['impression_sample'], 11375, 2)))\n",
        "print()\n",
        "\n",
        "income_grouped.reset_index(inplace=True)\n",
        "print('Comparing Bias of Income Distributions for Zip Code: 11375')\n",
        "print('Kullback-Leibler Divergence: ' + str(calculate_bias(income_grouped['expected_freq'], income_grouped['sample_freq'], 11375, 0)))\n",
        "print('Jensen-Shannon Divergence: ' + str(calculate_bias(income_grouped['expected_freq'], income_grouped['sample_freq'], 11375, 1)))\n",
        "print('Chi-Squared Test: ' + str(calculate_bias(income_grouped['count'], income_grouped['impression_sample'], 11375, 2)))"
      ],
      "execution_count": 41,
      "outputs": [
        {
          "output_type": "stream",
          "text": [
            "Comparing Bias of Age Distributions for Zip Code: 11375\n",
            "Kullback-Leibler Divergence: -0.022242230167981714\n",
            "Jensen-Shannon Divergence: -0.3014402763185196\n",
            "Chi-Squared Test: Power_divergenceResult(statistic=879605.9160661483, pvalue=0.0)\n",
            "\n",
            "Comparing Bias of Ethnicity Distributions for Zip Code: 11375\n",
            "Kullback-Leibler Divergence: -0.02419342188857421\n",
            "Jensen-Shannon Divergence: -0.3173548047166287\n",
            "Chi-Squared Test: Power_divergenceResult(statistic=879734.1299637553, pvalue=0.0)\n",
            "\n",
            "Comparing Bias of Income Distributions for Zip Code: 11375\n",
            "Kullback-Leibler Divergence: -0.07375419460524969\n",
            "Jensen-Shannon Divergence: -0.5552630716810323\n",
            "Chi-Squared Test: Power_divergenceResult(statistic=885511.5862737196, pvalue=0.0)\n"
          ],
          "name": "stdout"
        }
      ]
    },
    {
      "cell_type": "markdown",
      "metadata": {
        "id": "TsQ0iu_iwAoE"
      },
      "source": [
        "Demonstrated by the outputs above, the bias metrics increase in their sensitivity to differences between two distributions as we go from the Kullback-Leibler Divergence to the Jensen-Shannon Divergence to the Chi-Square Test."
      ]
    },
    {
      "cell_type": "markdown",
      "metadata": {
        "id": "j60seYabuvEN"
      },
      "source": [
        "## Diversifying the Reached Audience of an Ad Campaign"
      ]
    },
    {
      "cell_type": "code",
      "metadata": {
        "id": "6j8V7eFwPk6w"
      },
      "source": [
        "# given a feature and bias metric, measures the amount of money and number of impressions needed to reach a lower bias threshold for a zip code\n",
        "def diversification_plan(zip_code, feature, bias_metric, maintain_budget, max_bias, step_size):\n",
        "  zip_joined_copy = zip_joined.copy().reset_index()\n",
        "  demo_zip = sample_zip_demographics(zip_code, zip_joined_copy.set_index('zip_code'))\n",
        "  grouped = demo_zip.groupby(['zip_code', feature]).agg({'count': 'sum', 'impression_sample': 'sum', 'expected_freq': 'sum', 'sample_freq': 'sum'})\n",
        "  curr_bias = calculate_bias(grouped['expected_freq'], grouped['sample_freq'], zip_code, bias_metric)\n",
        "  total_impressions = zip_joined_copy['impression_count'].sum()\n",
        "\n",
        "  total_cost = impressions[impressions['zip_code'] == zip_code]['advertiser_cost_in_usd'].sum()\n",
        "  changes = dict()\n",
        "  changes[zip_code] = {'num_impressions': [zip_joined_copy[zip_joined_copy['zip_code'] == zip_code].loc[:, 'impression_count'].values[0]],\n",
        "                       'bias': [curr_bias],\n",
        "                       'total_cost': [total_cost]}\n",
        "\n",
        "  # unlimited budget option: continually increases impressions by step_size and cost until the bias has decreased past the threshold\n",
        "  if maintain_budget == False:\n",
        "    cost_per_ad = impressions[impressions['zip_code'] == zip_code]['advertiser_cost_in_usd'].mean() + (np.random.random_sample() / np.random.randint(100, 1001))\n",
        "    while curr_bias < max_bias:\n",
        "      zip_joined_copy.loc[zip_joined_copy['zip_code'] == zip_code, 'impression_count'] += step_size\n",
        "      total_impressions += step_size\n",
        "      zip_joined_copy.loc[zip_joined_copy['zip_code'] == zip_code, 'observed_zip_freq'] = zip_joined_copy.loc[zip_joined_copy['zip_code'] == zip_code, 'impression_count'] / total_impressions\n",
        "      demo_zip = sample_zip_demographics(zip_code, zip_joined_copy.set_index('zip_code'))\n",
        "      grouped = demo_zip.groupby(['zip_code', feature]).agg({'count': 'sum', 'impression_sample': 'sum', 'expected_freq': 'sum', 'sample_freq': 'sum'})\n",
        "      curr_bias = calculate_bias(grouped['expected_freq'], grouped['sample_freq'], zip_code, bias_metric)\n",
        "      total_cost += cost_per_ad * step_size\n",
        "      changes[zip_code]['num_impressions'].append(zip_joined_copy.loc[zip_joined_copy['zip_code'] == zip_code, 'impression_count'].values[0])\n",
        "      changes[zip_code]['bias'].append(curr_bias)\n",
        "      changes[zip_code]['total_cost'].append(total_cost)\n",
        "  # limited budget option: using the money already in the \"system,\" iteratively diverts costs and impressions (step_size at a time) away from the overrepresented \\\n",
        "  # zip codes and directs them toward the underrepresented zip code passed in until the bias against this zip code has decreased past the threshold\n",
        "  else:\n",
        "    count = 0\n",
        "    seen = set()\n",
        "    overrep_zips = zip_joined_copy[(zip_joined_copy['freq_difference'] > 0) & (zip_joined_copy['household_count'] > 0)].sort_values(by='freq_difference', ascending=False)\n",
        "    cost_per_ad = impressions[impressions['zip_code'] == zip_code]['advertiser_cost_in_usd'].mean()\n",
        "    while curr_bias < max_bias:\n",
        "      curr_donor = overrep_zips.iloc[count]\n",
        "      donor_zip = int(curr_donor['zip_code'])\n",
        "      \n",
        "      # maintain set of overrepresented zip codes to take resources from and track changes in bias and number of impressions\n",
        "      if donor_zip not in seen:\n",
        "        changes[donor_zip] = dict()\n",
        "        changes[donor_zip]['num_impressions'] = [zip_joined_copy.loc[zip_joined_copy['zip_code'] == donor_zip, 'impression_count'].values[0]]\n",
        "        start_donor_demo_zip = sample_zip_demographics(donor_zip, zip_joined_copy.set_index('zip_code'))\n",
        "        start_donor_grouped = start_donor_demo_zip.groupby(['zip_code', feature]).agg({'count': 'sum', 'impression_sample': 'sum', 'expected_freq': 'sum', 'sample_freq': 'sum'})\n",
        "        changes[donor_zip]['bias'] = [calculate_bias(start_donor_grouped['expected_freq'], start_donor_grouped['sample_freq'], donor_zip, bias_metric)]\n",
        "        changes[donor_zip]['total_cost'] = [impressions[impressions['zip_code'] == donor_zip]['advertiser_cost_in_usd'].sum()]\n",
        "        seen.add(donor_zip)\n",
        "\n",
        "      # decreases the total cost for impressions in the overrepresented zip code by the same amount that we increase the total cost for impressions in the underrepresented \\\n",
        "      # zip code \n",
        "      donor_cost_per_ad = impressions[impressions['zip_code'] == donor_zip]['advertiser_cost_in_usd'].mean()\n",
        "      changes[donor_zip]['total_cost'].append(changes[donor_zip]['total_cost'][-1] - (step_size * donor_cost_per_ad))\n",
        "      changes[zip_code]['total_cost'].append(changes[zip_code]['total_cost'][-1] + (step_size * donor_cost_per_ad))\n",
        "\n",
        "      # updates frequency comparison table after increasing the prevalence of the underrepresented zip code to calculate how its bias score has changed\n",
        "      num_impressions = round(step_size * donor_cost_per_ad / cost_per_ad)\n",
        "      zip_joined_copy.loc[zip_joined_copy['zip_code'] == zip_code, 'impression_count'] += num_impressions\n",
        "      total_impressions = total_impressions - step_size + num_impressions\n",
        "      zip_joined_copy.loc[zip_joined_copy['zip_code'] == zip_code, 'observed_zip_freq'] = zip_joined_copy.loc[zip_joined_copy['zip_code'] == zip_code, 'impression_count'] / total_impressions\n",
        "      demo_zip = sample_zip_demographics(zip_code, zip_joined_copy.set_index('zip_code'))\n",
        "      grouped = demo_zip.groupby(['zip_code', feature]).agg({'count': 'sum', 'impression_sample': 'sum', 'expected_freq': 'sum', 'sample_freq': 'sum'})\n",
        "      curr_bias = calculate_bias(grouped['expected_freq'], grouped['sample_freq'], zip_code, bias_metric)\n",
        "      # tracks changes to number of impressions and bias score for the underrepresented zip code \n",
        "      changes[zip_code]['num_impressions'].append(changes[zip_code]['num_impressions'][-1] + num_impressions)\n",
        "      changes[zip_code]['bias'].append(curr_bias)\n",
        "\n",
        "      # updates frequency comparison table after decreasing the prevalence of the \"donating\" overrepresented zip code to calculate how its bias score has changed\n",
        "      zip_joined_copy.loc[zip_joined_copy['zip_code'] == donor_zip, 'impression_count'] -= step_size\n",
        "      zip_joined_copy.loc[zip_joined_copy['zip_code'] == donor_zip, 'observed_zip_freq'] = zip_joined_copy.loc[zip_joined_copy['zip_code'] == donor_zip, 'impression_count'] / total_impressions\n",
        "      donor_demo_zip = sample_zip_demographics(donor_zip, zip_joined_copy.set_index('zip_code'))\n",
        "      donor_grouped = donor_demo_zip.groupby(['zip_code', feature]).agg({'count': 'sum', 'impression_sample': 'sum', 'expected_freq': 'sum', 'sample_freq': 'sum'})\n",
        "      # tracks changes to number of impressions and bias score for the overrepresented zip code that is \"donating its resources\"\n",
        "      changes[donor_zip]['num_impressions'].append(changes[donor_zip]['num_impressions'][-1] - step_size)\n",
        "      changes[donor_zip]['bias'].append(calculate_bias(donor_grouped['expected_freq'], donor_grouped['sample_freq'], donor_zip, bias_metric))\n",
        "\n",
        "      count = (count + 1) % len(overrep_zips) \n",
        "  return changes"
      ],
      "execution_count": 18,
      "outputs": []
    },
    {
      "cell_type": "code",
      "metadata": {
        "id": "bIBDV8eDMfsv"
      },
      "source": [
        "div_unlim = diversification_plan(11375, 'income', 'js', False, -0.12, 1000)"
      ],
      "execution_count": null,
      "outputs": []
    },
    {
      "cell_type": "code",
      "metadata": {
        "colab": {
          "base_uri": "https://localhost:8080/"
        },
        "id": "hfMO3qo49RXF",
        "outputId": "926f1e41-569a-434a-faf9-b3665564dd0c"
      },
      "source": [
        "# printing only the first 5 and last 5 bias scores for purposes of output brevity\n",
        "print('bias:', div_unlim[11375]['bias'][:5], '...', div_unlim[11375]['bias'][-5:])\n",
        "# printing only the first 5 and last 5 total cost calculations for purposes of output brevity\n",
        "print('total_cost:', div_unlim[11375]['total_cost'][:5], '...', div_unlim[11375]['total_cost'][-5:])"
      ],
      "execution_count": 25,
      "outputs": [
        {
          "output_type": "stream",
          "text": [
            "bias: [-0.5464736666198173, -0.38707143808858774, -0.2943019373515795, -0.19614126557837006, -0.3605622159179953] ... [-0.3282956969727133, -0.23129858241858986, -0.3063671697470281, -0.28737983083582197, -0.08842813761075984]\n",
            "total_cost: [117.91488095709204, 146.5559579124742, 175.1970348678564, 203.83811182323856, 232.47918877862074] ... [13235.528126522151, 13264.169203477533, 13292.810280432916, 13321.451357388298, 13350.09243434368]\n"
          ],
          "name": "stdout"
        }
      ]
    },
    {
      "cell_type": "code",
      "metadata": {
        "id": "DGwfjLtdfjpa"
      },
      "source": [
        "div_lim = diversification_plan(11375, 'income', 'js', True, -0.25, 100)"
      ],
      "execution_count": 26,
      "outputs": []
    },
    {
      "cell_type": "code",
      "metadata": {
        "id": "jV658geIbenI",
        "colab": {
          "base_uri": "https://localhost:8080/"
        },
        "outputId": "a862b46b-800c-45a6-d6fa-f12ce93e9ce3"
      },
      "source": [
        "div_lim.keys()"
      ],
      "execution_count": 27,
      "outputs": [
        {
          "output_type": "execute_result",
          "data": {
            "text/plain": [
              "dict_keys([11375, 65109, 38614, 62025, 35801, 57105, 35055, 31204, 13502, 27909, 14616, 32607, 61081, 29625, 75092, 13207])"
            ]
          },
          "metadata": {
            "tags": []
          },
          "execution_count": 27
        }
      ]
    },
    {
      "cell_type": "code",
      "metadata": {
        "colab": {
          "base_uri": "https://localhost:8080/"
        },
        "id": "pMrMDpSJ-n-l",
        "outputId": "85ac976e-147f-47b3-8942-2be26a3e48e5"
      },
      "source": [
        "# printing only the first 5 and last 5 bias scores for the underrepresented zip code (11375) for purposes of output brevity\n",
        "print('bias:', div_lim[11375]['bias'][:5], '...', div_lim[11375]['bias'][-5:])\n",
        "# printing the first 5 and last 5 total cost calculations for the underrepresented zip code (11375) for purposes of output brevity\n",
        "print('total_cost:', div_lim[11375]['total_cost'][:5], '...', div_lim[11375]['total_cost'][-5:])"
      ],
      "execution_count": 30,
      "outputs": [
        {
          "output_type": "stream",
          "text": [
            "bias: [-0.5390690597926803, -0.5060057925648727, -0.3105980729752306, -0.4344930086897793, -0.3967205963278547] ... [-0.42277873081586914, -0.4097612303502184, -0.47907136038281306, -0.49288524491084285, -0.23558090319720973]\n",
            "total_cost: [117.91488095709204, 120.4632240645734, 123.42821876487616, 125.99610669649142, 128.7476938391247] ... [147.58609574713316, 150.2160802547803, 152.89590750080535, 155.79348672821646, 158.45754424054238]\n"
          ],
          "name": "stdout"
        }
      ]
    },
    {
      "cell_type": "code",
      "metadata": {
        "colab": {
          "base_uri": "https://localhost:8080/",
          "height": 294
        },
        "id": "HKS5rYHE_Ow-",
        "outputId": "77a951a9-c46e-416b-bb01-3d1534b43844"
      },
      "source": [
        "plt.plot(div_lim[11375]['bias'])\n",
        "plt.title('Bias Score for the Income Distribution in Zip Code 11375 vs. Number of Diversification Plan Iterations')\n",
        "plt.ylabel('Bias (Jensen-Shannon Divergence)')\n",
        "plt.xlabel('Number of Iterations')\n",
        "plt.show()"
      ],
      "execution_count": 40,
      "outputs": [
        {
          "output_type": "display_data",
          "data": {
            "image/png": "[encoded data removed]",
            "text/plain": [
              "<Figure size 432x288 with 1 Axes>"
            ]
          },
          "metadata": {
            "tags": [],
            "needs_background": "light"
          }
        }
      ]
    },
    {
      "cell_type": "markdown",
      "metadata": {
        "id": "LkMwgpauCnxt"
      },
      "source": [
        "As we can see in the plot above, the bias does not decrease toward its threshold at a constant rate in accordance with the number of iterations that the diversification algorithm has run. This is due to the fact that we reweight our frequency table at each iteration and thus have to resample from the demographic data with the function `sample_zip_demographics`, which utilizes randomness to create a more realistic sample. "
      ]
    },
    {
      "cell_type": "code",
      "metadata": {
        "colab": {
          "base_uri": "https://localhost:8080/",
          "height": 294
        },
        "id": "GHwM8spwApiD",
        "outputId": "8e4c8b60-34df-47e7-ef95-3ef726c1bc37"
      },
      "source": [
        "plt.plot(div_lim[11375]['total_cost'])\n",
        "plt.title('Total Cost of Ad Impressions at Zip Code 11375 vs. Number of Diversification Plan Iterations')\n",
        "plt.ylabel('Total Cost ($)')\n",
        "plt.xlabel('Number of Iterations')\n",
        "plt.show()"
      ],
      "execution_count": 38,
      "outputs": [
        {
          "output_type": "display_data",
          "data": {
            "image/png": "[encoded data removed]",
            "text/plain": [
              "<Figure size 432x288 with 1 Axes>"
            ]
          },
          "metadata": {
            "tags": [],
            "needs_background": "light"
          }
        }
      ]
    },
    {
      "cell_type": "markdown",
      "metadata": {
        "id": "QoI3mUXTB0nB"
      },
      "source": [
        "As we can see in the plot above, the total cost steadily increases as the diversification algorithn runs and allocates more impressions to the underrepresented zip code at each iteration."
      ]
    },
    {
      "cell_type": "code",
      "metadata": {
        "colab": {
          "base_uri": "https://localhost:8080/"
        },
        "id": "NaLNQ-d3-885",
        "outputId": "cbfab1eb-9251-4ef6-b18e-c77eec25f06b"
      },
      "source": [
        "# printing the bias scores for an overrepresented zip code (65109)\n",
        "print('bias:', div_lim[65109]['bias'])\n",
        "# printing the total cost calculations for an overrepresented zip code (65109) \n",
        "print('total_cost:', div_lim[65109]['total_cost'])"
      ],
      "execution_count": 32,
      "outputs": [
        {
          "output_type": "stream",
          "text": [
            "bias: [0.017400152750348015, 0.017713588585868616]\n",
            "total_cost: [260.82291705073123, 258.2745739432499]\n"
          ],
          "name": "stdout"
        }
      ]
    },
    {
      "cell_type": "markdown",
      "metadata": {
        "id": "WaOqwN25_7RE"
      },
      "source": [
        "As we can see with the output in the cell above, only two iterations of the diversification algorithm involved diverting resources from the zip code 65109, and that is because it takes resources from multiple overrepresented zip codes."
      ]
    },
    {
      "cell_type": "code",
      "metadata": {
        "id": "8Lz9epgEAZb0"
      },
      "source": [
        ""
      ],
      "execution_count": null,
      "outputs": []
    }
  ]
}