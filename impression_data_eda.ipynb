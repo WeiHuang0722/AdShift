{
  "nbformat": 4,
  "nbformat_minor": 0,
  "metadata": {
    "colab": {
      "name": "impression_data_eda.ipynb",
      "provenance": [],
      "collapsed_sections": []
    },
    "kernelspec": {
      "display_name": "Python 3",
      "name": "python3"
    }
  },
  "cells": [
    {
      "cell_type": "code",
      "metadata": {
        "colab": {
          "base_uri": "https://localhost:8080/"
        },
        "id": "NELzGz41LzcU",
        "outputId": "f65bbba7-f4a1-4b97-fba6-72ce79833e89"
      },
      "source": [
        "from google.colab import drive\n",
        "from google.colab import files\n",
        "drive.mount('/content/drive')"
      ],
      "execution_count": 1,
      "outputs": [
        {
          "output_type": "stream",
          "text": [
            "Mounted at /content/drive\n"
          ],
          "name": "stdout"
        }
      ]
    },
    {
      "cell_type": "code",
      "metadata": {
        "id": "HRcMt4VCL2ms"
      },
      "source": [
        "import pandas as pd\n",
        "import numpy as np"
      ],
      "execution_count": 2,
      "outputs": []
    },
    {
      "cell_type": "markdown",
      "metadata": {
        "id": "gX_xgrryLQij"
      },
      "source": [
        "## Importing the U.S. Impressions Dataset"
      ]
    },
    {
      "cell_type": "code",
      "metadata": {
        "id": "ByJM95r5MFYe"
      },
      "source": [
        "impressions_path = '/content/drive/MyDrive/Kinesso/US EDA/US Data Sources/impression_dataframes/impressions_'"
      ],
      "execution_count": 3,
      "outputs": []
    },
    {
      "cell_type": "code",
      "metadata": {
        "id": "VsHCHqfMM3Tg"
      },
      "source": [
        "# reads the U.S. advertisement impression dataset into the DataFrame \"impressions\" by iteratively concatenating files in groups of 25\n",
        "impressions = pd.read_pickle(impressions_path + \"0.pkl\")\n",
        "for i in range(16):\n",
        "  start = (25 * i) + 1\n",
        "  stop = start + 25\n",
        "  df_list = [pd.read_pickle(impressions_path + str(j) + \".pkl\") for j in range(start, stop)]\n",
        "  df_concat = pd.concat(df_list)\n",
        "  impressions = pd.concat([impressions, df_concat])\n",
        "  del df_list\n",
        "  del df_concat"
      ],
      "execution_count": 4,
      "outputs": []
    },
    {
      "cell_type": "code",
      "metadata": {
        "colab": {
          "base_uri": "https://localhost:8080/"
        },
        "id": "lHVFOye1Nzfp",
        "outputId": "d9ad2ecb-9adc-42c8-c583-42baf1e8a8c5"
      },
      "source": [
        "impressions.shape"
      ],
      "execution_count": 5,
      "outputs": [
        {
          "output_type": "execute_result",
          "data": {
            "text/plain": [
              "(20050000, 20)"
            ]
          },
          "metadata": {
            "tags": []
          },
          "execution_count": 5
        }
      ]
    },
    {
      "cell_type": "code",
      "metadata": {
        "colab": {
          "base_uri": "https://localhost:8080/"
        },
        "id": "9AZJJJj_oiGn",
        "outputId": "a528ae7d-360c-4400-abd2-b30dd164bb2a"
      },
      "source": [
        "impressions.columns"
      ],
      "execution_count": 6,
      "outputs": [
        {
          "output_type": "execute_result",
          "data": {
            "text/plain": [
              "Index(['impression_id', 'campaign_id', 'ad_group_id', 'audience_id',\n",
              "       'supply_vendor', 'user_agent', 'region', 'city', 'device_type',\n",
              "       'os_family', 'os', 'browser', 'media_cost', 'ttd_cost_in_usd',\n",
              "       'partner_cost_in_usd', 'advertiser_cost_in_usd', 'zip_code',\n",
              "       'device_make', 'device_model', 'carrier_id'],\n",
              "      dtype='object')"
            ]
          },
          "metadata": {
            "tags": []
          },
          "execution_count": 6
        }
      ]
    },
    {
      "cell_type": "markdown",
      "metadata": {
        "id": "eE9EOfoNOLvq"
      },
      "source": [
        "## Data Cleaning"
      ]
    },
    {
      "cell_type": "code",
      "metadata": {
        "colab": {
          "base_uri": "https://localhost:8080/",
          "height": 384
        },
        "id": "GEd5RsedRHFz",
        "outputId": "e1a33012-2cef-4315-b30e-2cfa28fcd5ff"
      },
      "source": [
        "impressions.dropna(subset=['zip_code'], inplace=True)\n",
        "impressions.reset_index(drop=True, inplace=True)\n",
        "impressions.head()"
      ],
      "execution_count": 7,
      "outputs": [
        {
          "output_type": "execute_result",
          "data": {
            "text/html": [
              "<div>\n",
              "<style scoped>\n",
              "    .dataframe tbody tr th:only-of-type {\n",
              "        vertical-align: middle;\n",
              "    }\n",
              "\n",
              "    .dataframe tbody tr th {\n",
              "        vertical-align: top;\n",
              "    }\n",
              "\n",
              "    .dataframe thead th {\n",
              "        text-align: right;\n",
              "    }\n",
              "</style>\n",
              "<table border=\"1\" class=\"dataframe\">\n",
              "  <thead>\n",
              "    <tr style=\"text-align: right;\">\n",
              "      <th></th>\n",
              "      <th>impression_id</th>\n",
              "      <th>campaign_id</th>\n",
              "      <th>ad_group_id</th>\n",
              "      <th>audience_id</th>\n",
              "      <th>supply_vendor</th>\n",
              "      <th>user_agent</th>\n",
              "      <th>region</th>\n",
              "      <th>city</th>\n",
              "      <th>device_type</th>\n",
              "      <th>os_family</th>\n",
              "      <th>os</th>\n",
              "      <th>browser</th>\n",
              "      <th>media_cost</th>\n",
              "      <th>ttd_cost_in_usd</th>\n",
              "      <th>partner_cost_in_usd</th>\n",
              "      <th>advertiser_cost_in_usd</th>\n",
              "      <th>zip_code</th>\n",
              "      <th>device_make</th>\n",
              "      <th>device_model</th>\n",
              "      <th>carrier_id</th>\n",
              "    </tr>\n",
              "  </thead>\n",
              "  <tbody>\n",
              "    <tr>\n",
              "      <th>0</th>\n",
              "      <td>feeb8dbc-212a-4fba-8f8e-322431e625bf</td>\n",
              "      <td>el02c6n</td>\n",
              "      <td>exazlvq</td>\n",
              "      <td>NaN</td>\n",
              "      <td>Telaria</td>\n",
              "      <td>Roku/DVP-9.30 (489.30E04194A)</td>\n",
              "      <td>Minnesota</td>\n",
              "      <td>Minneapolis</td>\n",
              "      <td>6</td>\n",
              "      <td>1.0</td>\n",
              "      <td>101.0</td>\n",
              "      <td>1.0</td>\n",
              "      <td>0.01877</td>\n",
              "      <td>0.01877</td>\n",
              "      <td>0.019609</td>\n",
              "      <td>0.019609</td>\n",
              "      <td>55405.0</td>\n",
              "      <td>Roku</td>\n",
              "      <td>Digital Video player</td>\n",
              "      <td>NaN</td>\n",
              "    </tr>\n",
              "    <tr>\n",
              "      <th>1</th>\n",
              "      <td>b768bf1c-a433-44a1-9614-87f983118c94</td>\n",
              "      <td>pey7wjw</td>\n",
              "      <td>fcucjsu</td>\n",
              "      <td>1qh4zg7</td>\n",
              "      <td>freewheel</td>\n",
              "      <td>Roku/DVP-9.30 (509.30E04194A)</td>\n",
              "      <td>California</td>\n",
              "      <td>Oceanside</td>\n",
              "      <td>6</td>\n",
              "      <td>1.0</td>\n",
              "      <td>101.0</td>\n",
              "      <td>1.0</td>\n",
              "      <td>0.03840</td>\n",
              "      <td>0.03840</td>\n",
              "      <td>0.042422</td>\n",
              "      <td>0.042422</td>\n",
              "      <td>92056.0</td>\n",
              "      <td>Roku</td>\n",
              "      <td>Digital Video player</td>\n",
              "      <td>NaN</td>\n",
              "    </tr>\n",
              "    <tr>\n",
              "      <th>2</th>\n",
              "      <td>742e59e3-9283-4f32-81eb-7ccfe01e13ae</td>\n",
              "      <td>pey7wjw</td>\n",
              "      <td>fcucjsu</td>\n",
              "      <td>1qh4zg7</td>\n",
              "      <td>freewheel</td>\n",
              "      <td>Roku/DVP-9.30 (519.30E04194A)</td>\n",
              "      <td>Kentucky</td>\n",
              "      <td>Lancaster</td>\n",
              "      <td>6</td>\n",
              "      <td>1.0</td>\n",
              "      <td>101.0</td>\n",
              "      <td>1.0</td>\n",
              "      <td>0.03840</td>\n",
              "      <td>0.03840</td>\n",
              "      <td>0.042422</td>\n",
              "      <td>0.042422</td>\n",
              "      <td>40444.0</td>\n",
              "      <td>Roku</td>\n",
              "      <td>Digital Video player</td>\n",
              "      <td>NaN</td>\n",
              "    </tr>\n",
              "    <tr>\n",
              "      <th>3</th>\n",
              "      <td>9c298ba2-32e8-4a6e-adad-32f2f004bb95</td>\n",
              "      <td>pey7wjw</td>\n",
              "      <td>fcucjsu</td>\n",
              "      <td>1qh4zg7</td>\n",
              "      <td>freewheel</td>\n",
              "      <td>Roku/DVP-9.30 (919.30E04194A)</td>\n",
              "      <td>California</td>\n",
              "      <td>Los Osos</td>\n",
              "      <td>6</td>\n",
              "      <td>1.0</td>\n",
              "      <td>101.0</td>\n",
              "      <td>1.0</td>\n",
              "      <td>0.03840</td>\n",
              "      <td>0.03840</td>\n",
              "      <td>0.042422</td>\n",
              "      <td>0.042422</td>\n",
              "      <td>93402.0</td>\n",
              "      <td>Roku</td>\n",
              "      <td>Digital Video player</td>\n",
              "      <td>NaN</td>\n",
              "    </tr>\n",
              "    <tr>\n",
              "      <th>4</th>\n",
              "      <td>66cea51b-267b-4a2e-96c0-fcd276e2521c</td>\n",
              "      <td>el02c6n</td>\n",
              "      <td>exazlvq</td>\n",
              "      <td>NaN</td>\n",
              "      <td>Telaria</td>\n",
              "      <td>Roku/DVP-9.30 (319.30E04194A)</td>\n",
              "      <td>Pennsylvania</td>\n",
              "      <td>Philadelphia</td>\n",
              "      <td>6</td>\n",
              "      <td>1.0</td>\n",
              "      <td>101.0</td>\n",
              "      <td>1.0</td>\n",
              "      <td>0.01877</td>\n",
              "      <td>0.01877</td>\n",
              "      <td>0.019609</td>\n",
              "      <td>0.019609</td>\n",
              "      <td>19128.0</td>\n",
              "      <td>Roku</td>\n",
              "      <td>Digital Video player</td>\n",
              "      <td>NaN</td>\n",
              "    </tr>\n",
              "  </tbody>\n",
              "</table>\n",
              "</div>"
            ],
            "text/plain": [
              "                          impression_id  ... carrier_id\n",
              "0  feeb8dbc-212a-4fba-8f8e-322431e625bf  ...        NaN\n",
              "1  b768bf1c-a433-44a1-9614-87f983118c94  ...        NaN\n",
              "2  742e59e3-9283-4f32-81eb-7ccfe01e13ae  ...        NaN\n",
              "3  9c298ba2-32e8-4a6e-adad-32f2f004bb95  ...        NaN\n",
              "4  66cea51b-267b-4a2e-96c0-fcd276e2521c  ...        NaN\n",
              "\n",
              "[5 rows x 20 columns]"
            ]
          },
          "metadata": {
            "tags": []
          },
          "execution_count": 7
        }
      ]
    },
    {
      "cell_type": "code",
      "metadata": {
        "colab": {
          "base_uri": "https://localhost:8080/"
        },
        "id": "62xrrUub-UMq",
        "outputId": "21080b3a-172f-4e12-aa1f-a88c1d5167a5"
      },
      "source": [
        "impressions.shape"
      ],
      "execution_count": 8,
      "outputs": [
        {
          "output_type": "execute_result",
          "data": {
            "text/plain": [
              "(19700256, 20)"
            ]
          },
          "metadata": {
            "tags": []
          },
          "execution_count": 8
        }
      ]
    },
    {
      "cell_type": "markdown",
      "metadata": {
        "id": "Xqi0IQjTRAOF"
      },
      "source": [
        "## Data Analysis: Undertanding the Impression Dataset\n"
      ]
    },
    {
      "cell_type": "code",
      "metadata": {
        "id": "EasvlaLARJ79",
        "colab": {
          "base_uri": "https://localhost:8080/"
        },
        "outputId": "0d2c8a1c-9ac1-4973-8bce-73b58fd9adf4"
      },
      "source": [
        "# Features/Variable names\n",
        "print(impressions.columns)"
      ],
      "execution_count": 9,
      "outputs": [
        {
          "output_type": "stream",
          "text": [
            "Index(['impression_id', 'campaign_id', 'ad_group_id', 'audience_id',\n",
            "       'supply_vendor', 'user_agent', 'region', 'city', 'device_type',\n",
            "       'os_family', 'os', 'browser', 'media_cost', 'ttd_cost_in_usd',\n",
            "       'partner_cost_in_usd', 'advertiser_cost_in_usd', 'zip_code',\n",
            "       'device_make', 'device_model', 'carrier_id'],\n",
            "      dtype='object')\n"
          ],
          "name": "stdout"
        }
      ]
    },
    {
      "cell_type": "code",
      "metadata": {
        "colab": {
          "base_uri": "https://localhost:8080/",
          "height": 287
        },
        "id": "6m9Mf85nSGPb",
        "outputId": "f7513268-62c2-4129-9faa-f4036957a5b4"
      },
      "source": [
        "# General data statistics\n",
        "impressions.describe()"
      ],
      "execution_count": 10,
      "outputs": [
        {
          "output_type": "execute_result",
          "data": {
            "text/html": [
              "<div>\n",
              "<style scoped>\n",
              "    .dataframe tbody tr th:only-of-type {\n",
              "        vertical-align: middle;\n",
              "    }\n",
              "\n",
              "    .dataframe tbody tr th {\n",
              "        vertical-align: top;\n",
              "    }\n",
              "\n",
              "    .dataframe thead th {\n",
              "        text-align: right;\n",
              "    }\n",
              "</style>\n",
              "<table border=\"1\" class=\"dataframe\">\n",
              "  <thead>\n",
              "    <tr style=\"text-align: right;\">\n",
              "      <th></th>\n",
              "      <th>device_type</th>\n",
              "      <th>os_family</th>\n",
              "      <th>os</th>\n",
              "      <th>browser</th>\n",
              "      <th>media_cost</th>\n",
              "      <th>ttd_cost_in_usd</th>\n",
              "      <th>partner_cost_in_usd</th>\n",
              "      <th>advertiser_cost_in_usd</th>\n",
              "      <th>zip_code</th>\n",
              "      <th>carrier_id</th>\n",
              "    </tr>\n",
              "  </thead>\n",
              "  <tbody>\n",
              "    <tr>\n",
              "      <th>count</th>\n",
              "      <td>1.970026e+07</td>\n",
              "      <td>1.968668e+07</td>\n",
              "      <td>1.968668e+07</td>\n",
              "      <td>1.968668e+07</td>\n",
              "      <td>1.970026e+07</td>\n",
              "      <td>1.970026e+07</td>\n",
              "      <td>1.970026e+07</td>\n",
              "      <td>1.970026e+07</td>\n",
              "      <td>1.970026e+07</td>\n",
              "      <td>19524.000000</td>\n",
              "    </tr>\n",
              "    <tr>\n",
              "      <th>mean</th>\n",
              "      <td>5.676140e+00</td>\n",
              "      <td>2.975178e+00</td>\n",
              "      <td>1.140766e+02</td>\n",
              "      <td>4.479401e+00</td>\n",
              "      <td>2.489350e-02</td>\n",
              "      <td>2.498378e-02</td>\n",
              "      <td>2.728357e-02</td>\n",
              "      <td>2.728357e-02</td>\n",
              "      <td>4.704719e+04</td>\n",
              "      <td>369.078007</td>\n",
              "    </tr>\n",
              "    <tr>\n",
              "      <th>std</th>\n",
              "      <td>9.377925e-01</td>\n",
              "      <td>2.283043e+00</td>\n",
              "      <td>2.019485e+01</td>\n",
              "      <td>4.975096e+00</td>\n",
              "      <td>8.048358e-03</td>\n",
              "      <td>7.866446e-03</td>\n",
              "      <td>8.902320e-03</td>\n",
              "      <td>8.902320e-03</td>\n",
              "      <td>2.691599e+04</td>\n",
              "      <td>221.470177</td>\n",
              "    </tr>\n",
              "    <tr>\n",
              "      <th>min</th>\n",
              "      <td>1.000000e+00</td>\n",
              "      <td>1.000000e+00</td>\n",
              "      <td>1.010000e+02</td>\n",
              "      <td>1.000000e+00</td>\n",
              "      <td>1.380000e-05</td>\n",
              "      <td>1.600800e-05</td>\n",
              "      <td>5.738800e-05</td>\n",
              "      <td>5.738800e-05</td>\n",
              "      <td>1.001000e+03</td>\n",
              "      <td>32.000000</td>\n",
              "    </tr>\n",
              "    <tr>\n",
              "      <th>25%</th>\n",
              "      <td>6.000000e+00</td>\n",
              "      <td>1.000000e+00</td>\n",
              "      <td>1.010000e+02</td>\n",
              "      <td>1.000000e+00</td>\n",
              "      <td>1.877000e-02</td>\n",
              "      <td>1.877000e-02</td>\n",
              "      <td>1.960944e-02</td>\n",
              "      <td>1.960944e-02</td>\n",
              "      <td>2.780400e+04</td>\n",
              "      <td>32.000000</td>\n",
              "    </tr>\n",
              "    <tr>\n",
              "      <th>50%</th>\n",
              "      <td>6.000000e+00</td>\n",
              "      <td>1.000000e+00</td>\n",
              "      <td>1.010000e+02</td>\n",
              "      <td>1.000000e+00</td>\n",
              "      <td>2.600000e-02</td>\n",
              "      <td>2.600000e-02</td>\n",
              "      <td>2.878250e-02</td>\n",
              "      <td>2.878250e-02</td>\n",
              "      <td>4.305400e+04</td>\n",
              "      <td>509.000000</td>\n",
              "    </tr>\n",
              "    <tr>\n",
              "      <th>75%</th>\n",
              "      <td>6.000000e+00</td>\n",
              "      <td>6.000000e+00</td>\n",
              "      <td>1.400000e+02</td>\n",
              "      <td>6.000000e+00</td>\n",
              "      <td>2.990000e-02</td>\n",
              "      <td>2.990000e-02</td>\n",
              "      <td>3.307250e-02</td>\n",
              "      <td>3.307250e-02</td>\n",
              "      <td>7.080600e+04</td>\n",
              "      <td>509.000000</td>\n",
              "    </tr>\n",
              "    <tr>\n",
              "      <th>max</th>\n",
              "      <td>6.000000e+00</td>\n",
              "      <td>7.000000e+00</td>\n",
              "      <td>1.700000e+02</td>\n",
              "      <td>1.500000e+01</td>\n",
              "      <td>4.340000e-02</td>\n",
              "      <td>4.340000e-02</td>\n",
              "      <td>4.792250e-02</td>\n",
              "      <td>4.792250e-02</td>\n",
              "      <td>9.992900e+04</td>\n",
              "      <td>553.000000</td>\n",
              "    </tr>\n",
              "  </tbody>\n",
              "</table>\n",
              "</div>"
            ],
            "text/plain": [
              "        device_type     os_family  ...      zip_code    carrier_id\n",
              "count  1.970026e+07  1.968668e+07  ...  1.970026e+07  19524.000000\n",
              "mean   5.676140e+00  2.975178e+00  ...  4.704719e+04    369.078007\n",
              "std    9.377925e-01  2.283043e+00  ...  2.691599e+04    221.470177\n",
              "min    1.000000e+00  1.000000e+00  ...  1.001000e+03     32.000000\n",
              "25%    6.000000e+00  1.000000e+00  ...  2.780400e+04     32.000000\n",
              "50%    6.000000e+00  1.000000e+00  ...  4.305400e+04    509.000000\n",
              "75%    6.000000e+00  6.000000e+00  ...  7.080600e+04    509.000000\n",
              "max    6.000000e+00  7.000000e+00  ...  9.992900e+04    553.000000\n",
              "\n",
              "[8 rows x 10 columns]"
            ]
          },
          "metadata": {
            "tags": []
          },
          "execution_count": 10
        }
      ]
    },
    {
      "cell_type": "code",
      "metadata": {
        "colab": {
          "base_uri": "https://localhost:8080/",
          "height": 606
        },
        "id": "-BS6bJZ_kNNP",
        "outputId": "f86a039e-b4f6-43fb-a83c-c1ab3c8dd39f"
      },
      "source": [
        "# Histograms\n",
        "import matplotlib.pyplot as plt\n",
        "\n",
        "impressions.hist(figsize=(13,10))\n",
        "plt.show()"
      ],
      "execution_count": 11,
      "outputs": [
        {
          "output_type": "display_data",
          "data": {
            "image/png": "[encoded data removed]",
            "text/plain": [
              "<Figure size 936x720 with 12 Axes>"
            ]
          },
          "metadata": {
            "tags": [],
            "needs_background": "light"
          }
        }
      ]
    },
    {
      "cell_type": "code",
      "metadata": {
        "colab": {
          "base_uri": "https://localhost:8080/"
        },
        "id": "nIxw4iJvs6yZ",
        "outputId": "59450bf0-a8f1-424f-cf18-9950a549fc71"
      },
      "source": [
        "# campaign\n",
        "print(impressions['campaign_id'].value_counts())\n",
        "print()\n",
        "# ad group\n",
        "print(impressions['ad_group_id'].value_counts())\n",
        "print()\n",
        "# audience\n",
        "print(impressions['audience_id'].value_counts())"
      ],
      "execution_count": 12,
      "outputs": [
        {
          "output_type": "stream",
          "text": [
            "pey7wjw    11377481\n",
            "el02c6n     3862165\n",
            "37mbq70     1235859\n",
            "3ifg9qs     1022959\n",
            "1lbe4rr      865995\n",
            "883mie9      520898\n",
            "tewk8co      501171\n",
            "n9cyl1d      174962\n",
            "3caat14      138752\n",
            "gw0dn2q          12\n",
            "qeypp4q           2\n",
            "Name: campaign_id, dtype: int64\n",
            "\n",
            "exazlvq    3862165\n",
            "p64hhnx    2754108\n",
            "ocgz9ox    2501390\n",
            "fcucjsu    1831632\n",
            "jrs3low    1542122\n",
            "l16k4pm    1518660\n",
            "985jsza    1235859\n",
            "t81fv65    1229569\n",
            "lc5e1vp     865995\n",
            "i3lc0ui     501171\n",
            "imqkod7     302406\n",
            "4wwjlor     259591\n",
            "kt0y5a0     256986\n",
            "zwn8sxi     229808\n",
            "bjlvnqj     206713\n",
            "v794d98     174962\n",
            "07qnswp     130140\n",
            "zw22joi     113947\n",
            "9xgkc15      84377\n",
            "oevx1xt      73836\n",
            "z75aty0      23014\n",
            "b6h8bwy       1791\n",
            "zdqxp2a         12\n",
            "bzmf4lw          2\n",
            "Name: ad_group_id, dtype: int64\n",
            "\n",
            "8w5d7xz    2754108\n",
            "1qh4zg7    1831632\n",
            "ovwdyib    1542122\n",
            "k7orynn    1235859\n",
            "vshk6qb     143537\n",
            "oodakbi     136964\n",
            "sr1mel0      73836\n",
            "wluvyy2      20442\n",
            "3obyxao       2214\n",
            "lfifv2d       1615\n",
            "9dob8vr        502\n",
            "Name: audience_id, dtype: int64\n"
          ],
          "name": "stdout"
        }
      ]
    },
    {
      "cell_type": "code",
      "metadata": {
        "colab": {
          "base_uri": "https://localhost:8080/",
          "height": 602
        },
        "id": "PNX18UsktB7Z",
        "outputId": "5505e7bd-0dda-4771-c121-e263fe147d82"
      },
      "source": [
        "# One campaign (from A Media Service Company); Four ad group assigned by TTD; One audience \n",
        "impressions['ad_group_id'].hist(figsize=(13,10))\n",
        "plt.show()"
      ],
      "execution_count": 13,
      "outputs": [
        {
          "output_type": "display_data",
          "data": {
            "image/png": "[encoded data removed]",
            "text/plain": [
              "<Figure size 936x720 with 1 Axes>"
            ]
          },
          "metadata": {
            "tags": [],
            "needs_background": "light"
          }
        }
      ]
    },
    {
      "cell_type": "code",
      "metadata": {
        "colab": {
          "base_uri": "https://localhost:8080/",
          "height": 957
        },
        "id": "DViUB0VPtHBO",
        "outputId": "98ce2fa5-f856-4a52-f309-baa109264638"
      },
      "source": [
        "# supply vendor (from which the impression was purchased)\n",
        "print(impressions['supply_vendor'].value_counts())\n",
        "impressions['supply_vendor'].hist(figsize=(13,10))\n",
        "plt.show()"
      ],
      "execution_count": 14,
      "outputs": [
        {
          "output_type": "stream",
          "text": [
            "freewheel       7931892\n",
            "Telaria         7708414\n",
            "spotx           1800217\n",
            "triplelift       948543\n",
            "google           529813\n",
            "adswizz          501185\n",
            "kargo             62056\n",
            "yieldmo           45429\n",
            "teadstv           40834\n",
            "taboola           37094\n",
            "sharethrough      33838\n",
            "outbrain          28654\n",
            "smaato            23534\n",
            "appnexus           5665\n",
            "nativo             2869\n",
            "richaudience        202\n",
            "seedtag              14\n",
            "aja                   2\n",
            "ucfunnel              1\n",
            "Name: supply_vendor, dtype: int64\n"
          ],
          "name": "stdout"
        },
        {
          "output_type": "display_data",
          "data": {
            "image/png": "[encoded data removed]",
            "text/plain": [
              "<Figure size 936x720 with 1 Axes>"
            ]
          },
          "metadata": {
            "tags": [],
            "needs_background": "light"
          }
        }
      ]
    },
    {
      "cell_type": "code",
      "metadata": {
        "colab": {
          "base_uri": "https://localhost:8080/"
        },
        "id": "YDw5PUMztLqI",
        "outputId": "090fb7bc-0953-4378-f877-c16d6194fc63"
      },
      "source": [
        "# user agent\n",
        "print(impressions['user_agent'].value_counts())"
      ],
      "execution_count": 15,
      "outputs": [
        {
          "output_type": "stream",
          "text": [
            "Roku/DVP-9.30 (519.30E04194A)                                                                                                                                                                              1167140\n",
            "Roku/DVP-9.30 (AE9.30E04194A)                                                                                                                                                                               987404\n",
            "Mozilla/5.0 (Linux; Android 5.1.1; AFTT Build/LVY48F; wv) AppleWebKit/537.36 (KHTML, like Gecko) Version/4.0 Chrome/75.0.3770.143 Mobile Safari/537.36                                                      949376\n",
            "Dalvik/2.1.0 (Linux; U; Android 5.1.1; AFTT Build/LVY48F) CTV                                                                                                                                               768015\n",
            "Roku/DVP-9.30 (309.30E04194A)                                                                                                                                                                               674671\n",
            "                                                                                                                                                                                                            ...   \n",
            "Hulu/4.10.99.409200 (Android 10; en_US; Pixel 4 XL; Build/QQ3A.200805.001;)                                                                                                                                      1\n",
            "Mozilla/5.0 (Linux; Android 9; LM-X220 Build/PKQ1.190522.001; wv) AppleWebKit/537.36 (KHTML, like Gecko) Version/4.0 Chrome/85.0.4183.81 Mobile Safari/537.36 [FB_IAB/FB4A;FBAV/291.0.0.44.120;]                 1\n",
            "Mozilla/5.0 (Linux; Android 8.1.0; LM-X220PM Build/O11019; wv) AppleWebKit/537.36 (KHTML, like Gecko) Version/4.0 Chrome/85.0.4183.127 Mobile Safari/537.36 (Mobile; afma-sdk-a-v203404999.14300000.1)           1\n",
            "Mozilla/5.0 (Linux; Android 8.1.0; LM-X210CM Build/OPM1.171019.026; wv) AppleWebKit/537.36 (KHTML, like Gecko) Version/4.0 Chrome/81.0.4044.111 Mobile Safari/537.36 [FB_IAB/FB4A;FBAV/266.0.0.64.124;]          1\n",
            "Himalaya/2.4.37 Android/29 (SM-N970U)                                                                                                                                                                            1\n",
            "Name: user_agent, Length: 101508, dtype: int64\n"
          ],
          "name": "stdout"
        }
      ]
    },
    {
      "cell_type": "code",
      "metadata": {
        "colab": {
          "base_uri": "https://localhost:8080/"
        },
        "id": "VjO8tJj7lUB8",
        "outputId": "65b6c7de-cd43-4d3b-e368-2180ecc7af1a"
      },
      "source": [
        "impressions['zip_code'].value_counts()"
      ],
      "execution_count": 16,
      "outputs": [
        {
          "output_type": "execute_result",
          "data": {
            "text/plain": [
              "36117.0    18317\n",
              "20149.0    17493\n",
              "65203.0    15266\n",
              "37042.0    13578\n",
              "63033.0    13285\n",
              "           ...  \n",
              "12416.0        1\n",
              "12411.0        1\n",
              "32445.0        1\n",
              "32443.0        1\n",
              "16917.0        1\n",
              "Name: zip_code, Length: 28825, dtype: int64"
            ]
          },
          "metadata": {
            "tags": []
          },
          "execution_count": 16
        }
      ]
    },
    {
      "cell_type": "code",
      "metadata": {
        "colab": {
          "base_uri": "https://localhost:8080/"
        },
        "id": "sKamgZ1WTF0-",
        "outputId": "8aeb988d-8a9b-4909-b56a-cd4deb08ee87"
      },
      "source": [
        "# region (state)\n",
        "impressions['region'].value_counts()"
      ],
      "execution_count": 17,
      "outputs": [
        {
          "output_type": "execute_result",
          "data": {
            "text/plain": [
              "Texas                   1462957\n",
              "California              1187212\n",
              "New York                1179176\n",
              "Florida                 1101418\n",
              "Ohio                    1047464\n",
              "Georgia                  880215\n",
              "North Carolina           787128\n",
              "Illinois                 760827\n",
              "Pennsylvania             720941\n",
              "Tennessee                697634\n",
              "Virginia                 604062\n",
              "Michigan                 573060\n",
              "Indiana                  541873\n",
              "Missouri                 498777\n",
              "Alabama                  496168\n",
              "South Carolina           489775\n",
              "New Jersey               476670\n",
              "Maryland                 436816\n",
              "Kentucky                 421323\n",
              "Louisiana                409693\n",
              "Wisconsin                333518\n",
              "Washington               329317\n",
              "Massachusetts            328152\n",
              "Mississippi              321783\n",
              "Minnesota                310913\n",
              "Arkansas                 262742\n",
              "Connecticut              246818\n",
              "Oklahoma                 239546\n",
              "Arizona                  238884\n",
              "Colorado                 226126\n",
              "Oregon                   225054\n",
              "Kansas                   193165\n",
              "Nevada                   178705\n",
              "West Virginia            174264\n",
              "Iowa                     152720\n",
              "Nebraska                 126806\n",
              "Utah                     118169\n",
              "New Mexico               103830\n",
              "Idaho                    101518\n",
              "Delaware                  90330\n",
              "Maine                     89286\n",
              "Rhode Island              81153\n",
              "District of Columbia      72677\n",
              "New Hampshire             71375\n",
              "South Dakota              57828\n",
              "North Dakota              56485\n",
              "Hawaii                    50299\n",
              "Vermont                   45384\n",
              "Wyoming                   40838\n",
              "Alaska                    29536\n",
              "Montana                   28950\n",
              "Name: region, dtype: int64"
            ]
          },
          "metadata": {
            "tags": []
          },
          "execution_count": 17
        }
      ]
    },
    {
      "cell_type": "code",
      "metadata": {
        "colab": {
          "base_uri": "https://localhost:8080/"
        },
        "id": "YbvNr51KTLFz",
        "outputId": "55e0c2d1-2e38-4bac-c827-c324e9dde52d"
      },
      "source": [
        "# city\n",
        "impressions['city'].value_counts()\n",
        "# bias between the city population with the people reached here"
      ],
      "execution_count": 18,
      "outputs": [
        {
          "output_type": "execute_result",
          "data": {
            "text/plain": [
              "Chicago             201678\n",
              "Houston             136554\n",
              "Brooklyn            134884\n",
              "Philadelphia        132711\n",
              "Columbus            119443\n",
              "                     ...  \n",
              "Drakesville              1\n",
              "Bienville                1\n",
              "Huntington Mills         1\n",
              "New Vernon               1\n",
              "Linn Creek               1\n",
              "Name: city, Length: 14665, dtype: int64"
            ]
          },
          "metadata": {
            "tags": []
          },
          "execution_count": 18
        }
      ]
    },
    {
      "cell_type": "code",
      "metadata": {
        "colab": {
          "base_uri": "https://localhost:8080/",
          "height": 744
        },
        "id": "hoG1uLk0TNq4",
        "outputId": "fa540143-64ee-4512-ed35-78640499af27"
      },
      "source": [
        "# os family\n",
        "print(impressions['os_family'].value_counts())\n",
        "impressions['os_family'].hist(figsize=(13,10))\n",
        "plt.show()"
      ],
      "execution_count": 19,
      "outputs": [
        {
          "output_type": "stream",
          "text": [
            "1.0    10501625\n",
            "6.0     6002524\n",
            "5.0     1180607\n",
            "4.0     1008757\n",
            "2.0      863232\n",
            "3.0      129869\n",
            "7.0          70\n",
            "Name: os_family, dtype: int64\n"
          ],
          "name": "stdout"
        },
        {
          "output_type": "display_data",
          "data": {
            "image/png": "[encoded data removed]",
            "text/plain": [
              "<Figure size 936x720 with 1 Axes>"
            ]
          },
          "metadata": {
            "tags": [],
            "needs_background": "light"
          }
        }
      ]
    },
    {
      "cell_type": "code",
      "metadata": {
        "colab": {
          "base_uri": "https://localhost:8080/",
          "height": 1000
        },
        "id": "nsF6_-YCTX5_",
        "outputId": "cc139594-e1df-4bb1-c321-aa642518c2a6"
      },
      "source": [
        "# os\n",
        "print(impressions['os'].value_counts())\n",
        "impressions['os'].hist(figsize=(13,10))\n",
        "plt.show()"
      ],
      "execution_count": 20,
      "outputs": [
        {
          "output_type": "stream",
          "text": [
            "101.0    13428661\n",
            "141.0     2927080\n",
            "140.0     1208093\n",
            "122.0      536082\n",
            "156.0      340470\n",
            "155.0      249160\n",
            "164.0      184137\n",
            "170.0      165288\n",
            "145.0      163007\n",
            "163.0       66273\n",
            "136.0       58432\n",
            "104.0       46114\n",
            "169.0       45995\n",
            "111.0       40135\n",
            "154.0       38005\n",
            "139.0       30721\n",
            "162.0       29849\n",
            "132.0       27575\n",
            "157.0       24841\n",
            "112.0       16834\n",
            "105.0       16260\n",
            "168.0       14113\n",
            "161.0        9631\n",
            "144.0        2494\n",
            "137.0        1705\n",
            "153.0        1651\n",
            "160.0        1638\n",
            "151.0        1587\n",
            "159.0        1549\n",
            "109.0        1328\n",
            "102.0        1114\n",
            "158.0        1104\n",
            "103.0        1019\n",
            "152.0         742\n",
            "148.0         736\n",
            "149.0         562\n",
            "107.0         496\n",
            "150.0         396\n",
            "117.0         297\n",
            "143.0         245\n",
            "147.0         241\n",
            "146.0         232\n",
            "116.0         138\n",
            "142.0         128\n",
            "134.0          83\n",
            "138.0          83\n",
            "115.0          79\n",
            "131.0          67\n",
            "135.0          42\n",
            "121.0          30\n",
            "108.0          30\n",
            "129.0          30\n",
            "110.0          27\n",
            "113.0          21\n",
            "133.0          15\n",
            "130.0           8\n",
            "118.0           7\n",
            "114.0           3\n",
            "106.0           1\n",
            "Name: os, dtype: int64\n"
          ],
          "name": "stdout"
        },
        {
          "output_type": "display_data",
          "data": {
            "image/png": "[encoded data removed]",
            "text/plain": [
              "<Figure size 936x720 with 1 Axes>"
            ]
          },
          "metadata": {
            "tags": [],
            "needs_background": "light"
          }
        }
      ]
    },
    {
      "cell_type": "code",
      "metadata": {
        "colab": {
          "base_uri": "https://localhost:8080/",
          "height": 833
        },
        "id": "nOtrTFjXTb9G",
        "outputId": "200d397a-8a01-4606-a40a-553343004931"
      },
      "source": [
        "# browser\n",
        "print(impressions['browser'].value_counts())\n",
        "impressions['browser'].hist(figsize=(13,10))\n",
        "plt.show()"
      ],
      "execution_count": 21,
      "outputs": [
        {
          "output_type": "stream",
          "text": [
            "1.0     11619141\n",
            "6.0      4252715\n",
            "15.0     2878704\n",
            "7.0       531504\n",
            "12.0      171882\n",
            "9.0       145948\n",
            "10.0       65585\n",
            "5.0         8916\n",
            "4.0         6634\n",
            "8.0         5515\n",
            "3.0          102\n",
            "14.0          38\n",
            "Name: browser, dtype: int64\n"
          ],
          "name": "stdout"
        },
        {
          "output_type": "display_data",
          "data": {
            "image/png": "[encoded data removed]",
            "text/plain": [
              "<Figure size 936x720 with 1 Axes>"
            ]
          },
          "metadata": {
            "tags": [],
            "needs_background": "light"
          }
        }
      ]
    },
    {
      "cell_type": "code",
      "metadata": {
        "colab": {
          "base_uri": "https://localhost:8080/"
        },
        "id": "KlipIGnETpYo",
        "outputId": "5d043cd1-6d45-4b3b-c5f7-6e99b1876ab5"
      },
      "source": [
        "#zip code\n",
        "impressions['zip_code'].value_counts()\n",
        "# closely associated with city, region, longitude, latitude"
      ],
      "execution_count": 22,
      "outputs": [
        {
          "output_type": "execute_result",
          "data": {
            "text/plain": [
              "36117.0    18317\n",
              "20149.0    17493\n",
              "65203.0    15266\n",
              "37042.0    13578\n",
              "63033.0    13285\n",
              "           ...  \n",
              "12416.0        1\n",
              "12411.0        1\n",
              "32445.0        1\n",
              "32443.0        1\n",
              "16917.0        1\n",
              "Name: zip_code, Length: 28825, dtype: int64"
            ]
          },
          "metadata": {
            "tags": []
          },
          "execution_count": 22
        }
      ]
    },
    {
      "cell_type": "code",
      "metadata": {
        "colab": {
          "base_uri": "https://localhost:8080/"
        },
        "id": "K_h81X99TvTI",
        "outputId": "c0fe98a9-94bb-4d5f-92cc-ae584441fd04"
      },
      "source": [
        "# device model\n",
        "impressions['device_model'].value_counts()"
      ],
      "execution_count": 23,
      "outputs": [
        {
          "output_type": "execute_result",
          "data": {
            "text/plain": [
              "Digital Video player       9322469\n",
              "Fire TV Stick (2nd Gen)    2788932\n",
              "Chromecast                  885673\n",
              "AFTMM                       885664\n",
              "iPhone                      475955\n",
              "                            ...   \n",
              "WAS-LX1                          1\n",
              "RMX2063                          1\n",
              "1                                1\n",
              "SM-N981N                         1\n",
              "C740                             1\n",
              "Name: device_model, Length: 3514, dtype: int64"
            ]
          },
          "metadata": {
            "tags": []
          },
          "execution_count": 23
        }
      ]
    },
    {
      "cell_type": "code",
      "metadata": {
        "colab": {
          "base_uri": "https://localhost:8080/",
          "height": 708
        },
        "id": "Lg1V7HGAT55V",
        "outputId": "07376403-1f66-4d9f-fbe9-8349c2051021"
      },
      "source": [
        "# device type\n",
        "print(impressions['device_type'].value_counts())\n",
        "impressions['device_type'].hist(figsize=(13,10))\n",
        "plt.show()"
      ],
      "execution_count": 24,
      "outputs": [
        {
          "output_type": "stream",
          "text": [
            "6    17342366\n",
            "4     1505434\n",
            "2      797180\n",
            "3       47923\n",
            "1        7353\n",
            "Name: device_type, dtype: int64\n"
          ],
          "name": "stdout"
        },
        {
          "output_type": "display_data",
          "data": {
            "image/png": "[encoded data removed]",
            "text/plain": [
              "<Figure size 936x720 with 1 Axes>"
            ]
          },
          "metadata": {
            "tags": [],
            "needs_background": "light"
          }
        }
      ]
    }
  ]
}